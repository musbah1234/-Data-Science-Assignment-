{
 "cells": [
  {
   "cell_type": "markdown",
   "metadata": {},
   "source": [
    "1. Import the numpy package under the name np (★☆☆)"
   ]
  },
  {
   "cell_type": "code",
   "execution_count": 5,
   "metadata": {},
   "outputs": [],
   "source": [
    "import numpy as np"
   ]
  },
  {
   "cell_type": "markdown",
   "metadata": {},
   "source": [
    "2. Print the numpy version and the configuration (★☆☆)"
   ]
  },
  {
   "cell_type": "code",
   "execution_count": 6,
   "metadata": {},
   "outputs": [
    {
     "name": "stdout",
     "output_type": "stream",
     "text": [
      "Current version: 1.26.4\n",
      "Build Dependencies:\n",
      "  blas:\n",
      "    detection method: pkgconfig\n",
      "    found: true\n",
      "    include directory: /usr/local/include\n",
      "    lib directory: /usr/local/lib\n",
      "    name: openblas64\n",
      "    openblas configuration: USE_64BITINT=1 DYNAMIC_ARCH=1 DYNAMIC_OLDER= NO_CBLAS=\n",
      "      NO_LAPACK= NO_LAPACKE= NO_AFFINITY=1 USE_OPENMP= HASWELL MAX_THREADS=2\n",
      "    pc file directory: /usr/local/lib/pkgconfig\n",
      "    version: 0.3.23.dev\n",
      "  lapack:\n",
      "    detection method: internal\n",
      "    found: true\n",
      "    include directory: unknown\n",
      "    lib directory: unknown\n",
      "    name: dep139810746332592\n",
      "    openblas configuration: unknown\n",
      "    pc file directory: unknown\n",
      "    version: 1.26.4\n",
      "Compilers:\n",
      "  c:\n",
      "    args: -fno-strict-aliasing\n",
      "    commands: cc\n",
      "    linker: ld.bfd\n",
      "    linker args: -Wl,--strip-debug, -fno-strict-aliasing\n",
      "    name: gcc\n",
      "    version: 10.2.1\n",
      "  c++:\n",
      "    commands: c++\n",
      "    linker: ld.bfd\n",
      "    linker args: -Wl,--strip-debug\n",
      "    name: gcc\n",
      "    version: 10.2.1\n",
      "  cython:\n",
      "    commands: cython\n",
      "    linker: cython\n",
      "    name: cython\n",
      "    version: 3.0.8\n",
      "Machine Information:\n",
      "  build:\n",
      "    cpu: x86_64\n",
      "    endian: little\n",
      "    family: x86_64\n",
      "    system: linux\n",
      "  host:\n",
      "    cpu: x86_64\n",
      "    endian: little\n",
      "    family: x86_64\n",
      "    system: linux\n",
      "Python Information:\n",
      "  path: /opt/python/cp39-cp39/bin/python\n",
      "  version: '3.9'\n",
      "SIMD Extensions:\n",
      "  baseline:\n",
      "  - SSE\n",
      "  - SSE2\n",
      "  - SSE3\n",
      "  found:\n",
      "  - SSSE3\n",
      "  - SSE41\n",
      "  - POPCNT\n",
      "  - SSE42\n",
      "  - AVX\n",
      "  not found:\n",
      "  - F16C\n",
      "  - FMA3\n",
      "  - AVX2\n",
      "  - AVX512F\n",
      "  - AVX512CD\n",
      "  - AVX512_KNL\n",
      "  - AVX512_KNM\n",
      "  - AVX512_SKX\n",
      "  - AVX512_CLX\n",
      "  - AVX512_CNL\n",
      "  - AVX512_ICL\n",
      "\n",
      "None\n"
     ]
    }
   ],
   "source": [
    "print('Current version: ' + np.__version__)\n",
    "print(np.show_config())\n"
   ]
  },
  {
   "cell_type": "markdown",
   "metadata": {},
   "source": [
    "3. Create a null vector of size 10 (★☆☆)"
   ]
  },
  {
   "cell_type": "code",
   "execution_count": 7,
   "metadata": {},
   "outputs": [
    {
     "data": {
      "text/plain": [
       "array([0., 0., 0., 0., 0., 0., 0., 0., 0., 0.])"
      ]
     },
     "execution_count": 7,
     "metadata": {},
     "output_type": "execute_result"
    }
   ],
   "source": [
    "array = np.zeros(10)\n",
    "array"
   ]
  },
  {
   "cell_type": "markdown",
   "metadata": {},
   "source": [
    "4. How to find the memory size of any array (★☆☆)"
   ]
  },
  {
   "cell_type": "code",
   "execution_count": 8,
   "metadata": {},
   "outputs": [
    {
     "name": "stdout",
     "output_type": "stream",
     "text": [
      "80 bytes\n"
     ]
    }
   ],
   "source": [
    "print(\"%d bytes\" % (array.size * array.itemsize))"
   ]
  },
  {
   "cell_type": "code",
   "execution_count": 9,
   "metadata": {},
   "outputs": [
    {
     "name": "stdout",
     "output_type": "stream",
     "text": [
      "Help on ufunc:\n",
      "\n",
      "add = <ufunc 'add'>\n",
      "    add(x1, x2, /, out=None, *, where=True, casting='same_kind', order='K', dtype=None, subok=True[, signature, extobj])\n",
      "    \n",
      "    Add arguments element-wise.\n",
      "    \n",
      "    Parameters\n",
      "    ----------\n",
      "    x1, x2 : array_like\n",
      "        The arrays to be added.\n",
      "        If ``x1.shape != x2.shape``, they must be broadcastable to a common\n",
      "        shape (which becomes the shape of the output).\n",
      "    out : ndarray, None, or tuple of ndarray and None, optional\n",
      "        A location into which the result is stored. If provided, it must have\n",
      "        a shape that the inputs broadcast to. If not provided or None,\n",
      "        a freshly-allocated array is returned. A tuple (possible only as a\n",
      "        keyword argument) must have length equal to the number of outputs.\n",
      "    where : array_like, optional\n",
      "        This condition is broadcast over the input. At locations where the\n",
      "        condition is True, the `out` array will be set to the ufunc result.\n",
      "        Elsewhere, the `out` array will retain its original value.\n",
      "        Note that if an uninitialized `out` array is created via the default\n",
      "        ``out=None``, locations within it where the condition is False will\n",
      "        remain uninitialized.\n",
      "    **kwargs\n",
      "        For other keyword-only arguments, see the\n",
      "        :ref:`ufunc docs <ufuncs.kwargs>`.\n",
      "    \n",
      "    Returns\n",
      "    -------\n",
      "    add : ndarray or scalar\n",
      "        The sum of `x1` and `x2`, element-wise.\n",
      "        This is a scalar if both `x1` and `x2` are scalars.\n",
      "    \n",
      "    Notes\n",
      "    -----\n",
      "    Equivalent to `x1` + `x2` in terms of array broadcasting.\n",
      "    \n",
      "    Examples\n",
      "    --------\n",
      "    >>> np.add(1.0, 4.0)\n",
      "    5.0\n",
      "    >>> x1 = np.arange(9.0).reshape((3, 3))\n",
      "    >>> x2 = np.arange(3.0)\n",
      "    >>> np.add(x1, x2)\n",
      "    array([[  0.,   2.,   4.],\n",
      "           [  3.,   5.,   7.],\n",
      "           [  6.,   8.,  10.]])\n",
      "    \n",
      "    The ``+`` operator can be used as a shorthand for ``np.add`` on ndarrays.\n",
      "    \n",
      "    >>> x1 = np.arange(9.0).reshape((3, 3))\n",
      "    >>> x2 = np.arange(3.0)\n",
      "    >>> x1 + x2\n",
      "    array([[ 0.,  2.,  4.],\n",
      "           [ 3.,  5.,  7.],\n",
      "           [ 6.,  8., 10.]])\n",
      "\n"
     ]
    }
   ],
   "source": [
    "help(np.add)"
   ]
  },
  {
   "cell_type": "markdown",
   "metadata": {},
   "source": [
    "5. How to get the documentation of the numpy add function from the command line? (★☆☆)\n"
   ]
  },
  {
   "cell_type": "markdown",
   "metadata": {},
   "source": [
    "6. Create a null vector of size 10 but the fifth value which is 1 (★☆☆)\n"
   ]
  },
  {
   "cell_type": "code",
   "execution_count": 10,
   "metadata": {},
   "outputs": [
    {
     "data": {
      "text/plain": [
       "array([0., 0., 0., 0., 1., 0., 0., 0., 0., 0.])"
      ]
     },
     "execution_count": 10,
     "metadata": {},
     "output_type": "execute_result"
    }
   ],
   "source": [
    "arr = np.zeros(10)\n",
    "arr[4] = 1\n",
    "arr"
   ]
  },
  {
   "cell_type": "markdown",
   "metadata": {},
   "source": [
    "7. Create a vector with values ranging from 10 to 49 (★☆☆)"
   ]
  },
  {
   "cell_type": "code",
   "execution_count": 11,
   "metadata": {},
   "outputs": [
    {
     "data": {
      "text/plain": [
       "array([10, 11, 12, 13, 14, 15, 16, 17, 18, 19, 20, 21, 22, 23, 24, 25, 26,\n",
       "       27, 28, 29, 30, 31, 32, 33, 34, 35, 36, 37, 38, 39, 40, 41, 42, 43,\n",
       "       44, 45, 46, 47, 48, 49])"
      ]
     },
     "execution_count": 11,
     "metadata": {},
     "output_type": "execute_result"
    }
   ],
   "source": [
    "vector = np.arange(10,50)\n",
    "vector"
   ]
  },
  {
   "cell_type": "markdown",
   "metadata": {},
   "source": [
    "\n",
    "8. Reverse a vector (first element becomes last) (★☆☆)"
   ]
  },
  {
   "cell_type": "code",
   "execution_count": 12,
   "metadata": {},
   "outputs": [
    {
     "name": "stdout",
     "output_type": "stream",
     "text": [
      "[49 48 47 46 45 44 43 42 41 40 39 38 37 36 35 34 33 32 31 30 29 28 27 26\n",
      " 25 24 23 22 21 20 19 18 17 16 15 14 13 12 11 10]\n"
     ]
    }
   ],
   "source": [
    "print(vector[::-1])"
   ]
  },
  {
   "cell_type": "markdown",
   "metadata": {},
   "source": [
    "9. Create a 3x3 matrix with values ranging from 0 to 8 (★☆☆)"
   ]
  },
  {
   "cell_type": "code",
   "execution_count": 13,
   "metadata": {},
   "outputs": [
    {
     "data": {
      "text/plain": [
       "array([[0, 1, 2],\n",
       "       [3, 4, 5],\n",
       "       [6, 7, 8]])"
      ]
     },
     "execution_count": 13,
     "metadata": {},
     "output_type": "execute_result"
    }
   ],
   "source": [
    "vector_3 = np.arange(0,9)\n",
    "vector_3 = vector_3.reshape(3,3)\n",
    "vector_3"
   ]
  },
  {
   "cell_type": "markdown",
   "metadata": {},
   "source": [
    "vector_3 = np.arange(0,9)\n",
    "vector_3 = vector_3.reshape(3,3)\n",
    "vector_3"
   ]
  },
  {
   "cell_type": "code",
   "execution_count": 14,
   "metadata": {},
   "outputs": [
    {
     "data": {
      "text/plain": [
       "(array([0, 1, 4]),)"
      ]
     },
     "execution_count": 14,
     "metadata": {},
     "output_type": "execute_result"
    }
   ],
   "source": [
    "np.nonzero([1,2,0,0,4,0])"
   ]
  },
  {
   "cell_type": "markdown",
   "metadata": {},
   "source": [
    "11. Create a 3x3 identity matrix (★☆☆)"
   ]
  },
  {
   "cell_type": "code",
   "execution_count": 15,
   "metadata": {},
   "outputs": [
    {
     "data": {
      "text/plain": [
       "array([[1., 0., 0.],\n",
       "       [0., 1., 0.],\n",
       "       [0., 0., 1.]])"
      ]
     },
     "execution_count": 15,
     "metadata": {},
     "output_type": "execute_result"
    }
   ],
   "source": [
    "np.eye(3,3)"
   ]
  },
  {
   "cell_type": "markdown",
   "metadata": {},
   "source": [
    "12. Create a 3x3x3 array with random values (★☆☆)"
   ]
  },
  {
   "cell_type": "code",
   "execution_count": 16,
   "metadata": {},
   "outputs": [
    {
     "data": {
      "text/plain": [
       "array([[[0.23707792, 0.54965512, 0.59276035],\n",
       "        [0.0297516 , 0.28843609, 0.23455389],\n",
       "        [0.07128636, 0.59188609, 0.53841672]],\n",
       "\n",
       "       [[0.56104265, 0.18833692, 0.3929571 ],\n",
       "        [0.20984054, 0.8520993 , 0.71834987],\n",
       "        [0.79322391, 0.06087223, 0.77381031]],\n",
       "\n",
       "       [[0.18248109, 0.4085559 , 0.51040452],\n",
       "        [0.84588272, 0.11196434, 0.5759583 ],\n",
       "        [0.91612776, 0.20406068, 0.22119651]]])"
      ]
     },
     "execution_count": 16,
     "metadata": {},
     "output_type": "execute_result"
    }
   ],
   "source": [
    "np.random.rand(3,3,3)"
   ]
  },
  {
   "cell_type": "markdown",
   "metadata": {},
   "source": [
    "13. Create a 10x10 array with random values and find the minimum and maximum values (★☆☆)"
   ]
  },
  {
   "cell_type": "code",
   "execution_count": 17,
   "metadata": {},
   "outputs": [
    {
     "name": "stdout",
     "output_type": "stream",
     "text": [
      "[[0.88792029 0.55571346 0.58439288 0.81601687 0.93895967 0.60108299\n",
      "  0.78739368 0.34446354 0.38737617 0.96565065]\n",
      " [0.63077505 0.69097724 0.50156036 0.73175618 0.91365594 0.68090298\n",
      "  0.9714576  0.8170249  0.3878734  0.11202937]\n",
      " [0.89920921 0.99885312 0.25225325 0.09827596 0.32626889 0.41804206\n",
      "  0.21790947 0.12545721 0.78838697 0.86687246]\n",
      " [0.69015306 0.92180612 0.9167613  0.81841164 0.08168136 0.8238592\n",
      "  0.84682571 0.03203557 0.73233372 0.04203795]\n",
      " [0.16152935 0.07098203 0.54819236 0.96648748 0.68838121 0.9665878\n",
      "  0.64312517 0.3912216  0.54990284 0.03612489]\n",
      " [0.58107302 0.70104624 0.06062123 0.17402453 0.04675409 0.50058643\n",
      "  0.67855638 0.12657409 0.93584738 0.38034052]\n",
      " [0.61652974 0.21979931 0.39135458 0.21774441 0.43959238 0.13908078\n",
      "  0.55695398 0.73344448 0.92044895 0.97290107]\n",
      " [0.89688865 0.02090163 0.61928437 0.25872515 0.62068551 0.53727744\n",
      "  0.02055955 0.30824812 0.02625057 0.00525597]\n",
      " [0.04318528 0.39964022 0.63372524 0.29435859 0.03385708 0.69361692\n",
      "  0.05906993 0.51456135 0.46016708 0.97875428]\n",
      " [0.2469708  0.55014907 0.9445525  0.21847343 0.83491657 0.74238044\n",
      "  0.58776742 0.25656991 0.9246235  0.36753899]]\n",
      "Maximum number of array:  0.9988531217961047\n",
      "Minimum number of array:  0.005255966056941341\n"
     ]
    }
   ],
   "source": [
    "arr_1 = np.random.rand(10,10)\n",
    "maximum = np.max(arr_1)\n",
    "minimum = np.min(arr_1)\n",
    "print(arr_1)\n",
    "print(\"Maximum number of array: \", maximum)\n",
    "print(\"Minimum number of array: \", minimum)"
   ]
  },
  {
   "cell_type": "markdown",
   "metadata": {},
   "source": [
    "14. Create a random vector of size 30 and find the mean value (★☆☆)"
   ]
  },
  {
   "cell_type": "code",
   "execution_count": 18,
   "metadata": {},
   "outputs": [
    {
     "name": "stdout",
     "output_type": "stream",
     "text": [
      "Array:  [ 0.18051348  0.81630597  1.2139443   0.04791966 -0.25544166 -1.2732957\n",
      "  1.1146142   2.30670332 -0.50613393  0.83695708 -0.93054452  0.20127004\n",
      "  1.42494602 -0.75208826 -2.0820615  -0.43382376  2.3997119   2.47343935\n",
      " -1.39012024 -1.2325761   1.21031722 -0.61481961  0.09864299 -0.77635091\n",
      " -1.12052893  0.37163139  0.00849947 -0.49606049  0.56480458  0.27950839]\n",
      "Mean of array:  0.12286279198603371\n"
     ]
    }
   ],
   "source": [
    "arr_2 = np.random.randn(30)\n",
    "mean_value = np.mean(arr_2)\n",
    "print(\"Array: \", arr_2)\n",
    "print(\"Mean of array: \", mean_value)"
   ]
  },
  {
   "cell_type": "markdown",
   "metadata": {},
   "source": [
    "15. Create a 2d array with 1 on the border and 0 inside (★☆☆)"
   ]
  },
  {
   "cell_type": "code",
   "execution_count": 19,
   "metadata": {},
   "outputs": [
    {
     "data": {
      "text/plain": [
       "array([[0., 0., 0., 0., 0.],\n",
       "       [0., 1., 1., 1., 0.],\n",
       "       [0., 1., 1., 1., 0.],\n",
       "       [0., 1., 1., 1., 0.],\n",
       "       [0., 0., 0., 0., 0.]])"
      ]
     },
     "execution_count": 19,
     "metadata": {},
     "output_type": "execute_result"
    }
   ],
   "source": [
    "sample_array = np.zeros((5,5))\n",
    "sample_array[1:-1,1:-1] = 1\n",
    "sample_array"
   ]
  },
  {
   "cell_type": "markdown",
   "metadata": {},
   "source": [
    "16. How to add a border (filled with 0's) around an existing array? (★☆☆)\n"
   ]
  },
  {
   "cell_type": "code",
   "execution_count": 20,
   "metadata": {},
   "outputs": [
    {
     "data": {
      "text/plain": [
       "array([[0.        , 0.        , 0.        , 0.        , 0.        ,\n",
       "        0.        , 0.        , 0.        , 0.        , 0.        ,\n",
       "        0.        , 0.        ],\n",
       "       [0.        , 0.88792029, 0.55571346, 0.58439288, 0.81601687,\n",
       "        0.93895967, 0.60108299, 0.78739368, 0.34446354, 0.38737617,\n",
       "        0.96565065, 0.        ],\n",
       "       [0.        , 0.63077505, 0.69097724, 0.50156036, 0.73175618,\n",
       "        0.91365594, 0.68090298, 0.9714576 , 0.8170249 , 0.3878734 ,\n",
       "        0.11202937, 0.        ],\n",
       "       [0.        , 0.89920921, 0.99885312, 0.25225325, 0.09827596,\n",
       "        0.32626889, 0.41804206, 0.21790947, 0.12545721, 0.78838697,\n",
       "        0.86687246, 0.        ],\n",
       "       [0.        , 0.69015306, 0.92180612, 0.9167613 , 0.81841164,\n",
       "        0.08168136, 0.8238592 , 0.84682571, 0.03203557, 0.73233372,\n",
       "        0.04203795, 0.        ],\n",
       "       [0.        , 0.16152935, 0.07098203, 0.54819236, 0.96648748,\n",
       "        0.68838121, 0.9665878 , 0.64312517, 0.3912216 , 0.54990284,\n",
       "        0.03612489, 0.        ],\n",
       "       [0.        , 0.58107302, 0.70104624, 0.06062123, 0.17402453,\n",
       "        0.04675409, 0.50058643, 0.67855638, 0.12657409, 0.93584738,\n",
       "        0.38034052, 0.        ],\n",
       "       [0.        , 0.61652974, 0.21979931, 0.39135458, 0.21774441,\n",
       "        0.43959238, 0.13908078, 0.55695398, 0.73344448, 0.92044895,\n",
       "        0.97290107, 0.        ],\n",
       "       [0.        , 0.89688865, 0.02090163, 0.61928437, 0.25872515,\n",
       "        0.62068551, 0.53727744, 0.02055955, 0.30824812, 0.02625057,\n",
       "        0.00525597, 0.        ],\n",
       "       [0.        , 0.04318528, 0.39964022, 0.63372524, 0.29435859,\n",
       "        0.03385708, 0.69361692, 0.05906993, 0.51456135, 0.46016708,\n",
       "        0.97875428, 0.        ],\n",
       "       [0.        , 0.2469708 , 0.55014907, 0.9445525 , 0.21847343,\n",
       "        0.83491657, 0.74238044, 0.58776742, 0.25656991, 0.9246235 ,\n",
       "        0.36753899, 0.        ],\n",
       "       [0.        , 0.        , 0.        , 0.        , 0.        ,\n",
       "        0.        , 0.        , 0.        , 0.        , 0.        ,\n",
       "        0.        , 0.        ]])"
      ]
     },
     "execution_count": 20,
     "metadata": {},
     "output_type": "execute_result"
    }
   ],
   "source": [
    "# This is not correct\n",
    "change_Arr = np.pad(arr_1,pad_width=1,mode=\"constant\",constant_values=0)\n",
    "change_Arr"
   ]
  },
  {
   "cell_type": "markdown",
   "metadata": {},
   "source": [
    "17. What is the result of the following expression? (★☆☆)"
   ]
  },
  {
   "cell_type": "code",
   "execution_count": 21,
   "metadata": {},
   "outputs": [
    {
     "data": {
      "text/plain": [
       "False"
      ]
     },
     "execution_count": 21,
     "metadata": {},
     "output_type": "execute_result"
    }
   ],
   "source": [
    "0 * np.nan\n",
    "np.nan == np.nan\n",
    "np.inf > np.nan\n",
    "np.nan - np.nan\n",
    "np.nan in set([np.nan])\n",
    "0.3 == 3 * 0.1"
   ]
  },
  {
   "cell_type": "markdown",
   "metadata": {},
   "source": [
    "\n",
    "18. Create a 5x5 matrix with values 1,2,3,4 just below the diagonal (★☆☆)\n"
   ]
  },
  {
   "cell_type": "code",
   "execution_count": 22,
   "metadata": {},
   "outputs": [
    {
     "data": {
      "text/plain": [
       "array([[0, 1, 0, 1, 0, 1, 0, 1],\n",
       "       [1, 0, 1, 0, 1, 0, 1, 0],\n",
       "       [0, 1, 0, 1, 0, 1, 0, 1],\n",
       "       [1, 0, 1, 0, 1, 0, 1, 0],\n",
       "       [0, 1, 0, 1, 0, 1, 0, 1],\n",
       "       [1, 0, 1, 0, 1, 0, 1, 0],\n",
       "       [0, 1, 0, 1, 0, 1, 0, 1],\n",
       "       [1, 0, 1, 0, 1, 0, 1, 0]])"
      ]
     },
     "execution_count": 22,
     "metadata": {},
     "output_type": "execute_result"
    }
   ],
   "source": [
    "checker_board = np.zeros((8,8),dtype=\"int\")\n",
    "checker_board[1::2,::2] = 1\n",
    "checker_board[::2,1::2] = 1\n",
    "checker_board"
   ]
  },
  {
   "cell_type": "markdown",
   "metadata": {},
   "source": [
    "20. Consider a (6,7,8) shape array, what is the index (x,y,z) of the 100th element?\n"
   ]
  },
  {
   "cell_type": "code",
   "execution_count": 23,
   "metadata": {},
   "outputs": [
    {
     "data": {
      "text/plain": [
       "(1, 5, 4)"
      ]
     },
     "execution_count": 23,
     "metadata": {},
     "output_type": "execute_result"
    }
   ],
   "source": [
    "np.unravel_index(100, (6,7,8))"
   ]
  },
  {
   "cell_type": "markdown",
   "metadata": {},
   "source": [
    "21. Create a checkerboard 8x8 matrix using the tile function (★☆☆)"
   ]
  },
  {
   "cell_type": "code",
   "execution_count": 24,
   "metadata": {},
   "outputs": [
    {
     "data": {
      "text/plain": [
       "array([[0, 1, 0, 1, 0, 1, 0, 1],\n",
       "       [0, 1, 0, 1, 0, 1, 0, 1],\n",
       "       [0, 1, 0, 1, 0, 1, 0, 1],\n",
       "       [0, 1, 0, 1, 0, 1, 0, 1],\n",
       "       [0, 1, 0, 1, 0, 1, 0, 1],\n",
       "       [0, 1, 0, 1, 0, 1, 0, 1],\n",
       "       [0, 1, 0, 1, 0, 1, 0, 1],\n",
       "       [0, 1, 0, 1, 0, 1, 0, 1]])"
      ]
     },
     "execution_count": 24,
     "metadata": {},
     "output_type": "execute_result"
    }
   ],
   "source": [
    "a = np.array([0,1])\n",
    "np.tile(a, (8,4))"
   ]
  },
  {
   "cell_type": "markdown",
   "metadata": {},
   "source": [
    "\n",
    "22. Normalize a 5x5 random matrix (★☆☆)"
   ]
  },
  {
   "cell_type": "code",
   "execution_count": 25,
   "metadata": {},
   "outputs": [
    {
     "data": {
      "text/plain": [
       "array([[0.97665366, 0.46497414, 0.        , 0.78922413, 0.60615707],\n",
       "       [1.        , 0.15901549, 0.93128983, 0.20997022, 0.70396921],\n",
       "       [0.47840266, 0.74966819, 0.44108792, 0.72422445, 0.64524875],\n",
       "       [0.61063971, 0.29240508, 0.31360636, 0.89803838, 0.09335726],\n",
       "       [0.99822771, 0.49428365, 0.16194915, 0.09817167, 0.88443314]])"
      ]
     },
     "execution_count": 25,
     "metadata": {},
     "output_type": "execute_result"
    }
   ],
   "source": [
    "array_arr = np.random.rand(5,5)\n",
    "maxi,mini = array_arr.max(),array_arr.min()\n",
    "array_arr = (array_arr - mini)/(maxi - mini)\n",
    "array_arr"
   ]
  },
  {
   "cell_type": "markdown",
   "metadata": {},
   "source": [
    "23. Create a custom dtype that describes a color as four unsigned bytes (RGBA) (★☆☆)"
   ]
  },
  {
   "cell_type": "code",
   "execution_count": 26,
   "metadata": {},
   "outputs": [
    {
     "name": "stdout",
     "output_type": "stream",
     "text": [
      "1 4 3\n"
     ]
    },
    {
     "data": {
      "text/plain": [
       "numpy.ndarray"
      ]
     },
     "execution_count": 26,
     "metadata": {},
     "output_type": "execute_result"
    }
   ],
   "source": [
    "RGBA = np.dtype([(\"Red\",np.uint8),(\"Blue\",np.uint8),(\"Green\",np.uint8),(\"Yellow\",np.uint8)])\n",
    "color = np.array((1,2,3,4),dtype=RGBA)\n",
    "print(color['Red'],color['Yellow'],color['Green'])\n",
    "type(color)"
   ]
  },
  {
   "cell_type": "markdown",
   "metadata": {},
   "source": [
    "24. Multiply a 5x3 matrix by a 3x2 matrix (real matrix product) (★☆☆)"
   ]
  },
  {
   "cell_type": "code",
   "execution_count": 27,
   "metadata": {},
   "outputs": [
    {
     "name": "stdout",
     "output_type": "stream",
     "text": [
      "[[1.84129662 0.77245883]\n",
      " [0.69293772 0.369204  ]\n",
      " [0.98526051 0.55418433]\n",
      " [1.2630431  0.5005329 ]\n",
      " [1.20831542 0.73311883]]\n"
     ]
    },
    {
     "data": {
      "text/plain": [
       "array([[1.84129662, 0.77245883],\n",
       "       [0.69293772, 0.369204  ],\n",
       "       [0.98526051, 0.55418433],\n",
       "       [1.2630431 , 0.5005329 ],\n",
       "       [1.20831542, 0.73311883]])"
      ]
     },
     "execution_count": 27,
     "metadata": {},
     "output_type": "execute_result"
    }
   ],
   "source": [
    "arr1 = np.random.random((5,3))\n",
    "arr2 = np.random.random((3,2))\n",
    "print(arr1 @ arr2)\n",
    "#     OR\n",
    "np.dot(arr1,arr2)"
   ]
  },
  {
   "cell_type": "markdown",
   "metadata": {},
   "source": [
    "25. Given a 1D array, negate all elements which are between 3 and 8, in place. (★☆☆)"
   ]
  },
  {
   "cell_type": "markdown",
   "metadata": {},
   "source": [
    "26. What is the output of the following script? (★☆☆)"
   ]
  },
  {
   "cell_type": "markdown",
   "metadata": {},
   "source": [
    "print(sum(range(5),-1))\n",
    "from numpy import *\n",
    "print(sum(range(5),-1))"
   ]
  },
  {
   "cell_type": "code",
   "execution_count": 28,
   "metadata": {},
   "outputs": [
    {
     "name": "stdout",
     "output_type": "stream",
     "text": [
      "9\n",
      "10\n"
     ]
    }
   ],
   "source": [
    "print(sum(range(5),-1))\n",
    "from numpy import *\n",
    "print(sum(range(5),-1))"
   ]
  },
  {
   "cell_type": "markdown",
   "metadata": {},
   "source": [
    "27. Consider an integer vector Z, which of these expressions are legal? (★☆☆)\n",
    "Z**Z\n",
    "2 << Z >> 2\n",
    "Z <- Z\n",
    "1j*Z\n",
    "Z/1/1\n",
    "Z<Z>Z"
   ]
  },
  {
   "cell_type": "code",
   "execution_count": 30,
   "metadata": {},
   "outputs": [
    {
     "data": {
      "text/plain": [
       "array([ 0.,  1.,  2.,  3.,  4.,  5.,  6.,  7.,  8.,  9., 10., 11., 12.,\n",
       "       13., 14., 15.])"
      ]
     },
     "execution_count": 30,
     "metadata": {},
     "output_type": "execute_result"
    }
   ],
   "source": [
    "Z = np.arange(16)\n",
    "Z**Z\n",
    "2 << Z >> 2\n",
    "Z <- Z\n",
    "1j*Z\n",
    "Z/1/1\n",
    "# Z<Z>Z -> This is not legal expression"
   ]
  },
  {
   "cell_type": "markdown",
   "metadata": {},
   "source": [
    "28. What are the result of the following expressions?\n",
    "np.array(0) / np.array(0)\n",
    "np.array(0) // np.array(0)\n",
    "np.array([np.nan]).astype(int).astype(float)"
   ]
  },
  {
   "cell_type": "code",
   "execution_count": 32,
   "metadata": {},
   "outputs": [
    {
     "name": "stderr",
     "output_type": "stream",
     "text": [
      "/tmp/ipykernel_693/3343435198.py:1: RuntimeWarning: invalid value encountered in cast\n",
      "  np.array([np.nan]).astype(int).astype(float)\n"
     ]
    },
    {
     "data": {
      "text/plain": [
       "array([-9.22337204e+18])"
      ]
     },
     "execution_count": 32,
     "metadata": {},
     "output_type": "execute_result"
    }
   ],
   "source": [
    "\n",
    "np.array([np.nan]).astype(int).astype(float)"
   ]
  },
  {
   "cell_type": "markdown",
   "metadata": {},
   "source": [
    "29. How to round away from zero a float array ? (★☆☆)"
   ]
  },
  {
   "cell_type": "code",
   "execution_count": 33,
   "metadata": {},
   "outputs": [
    {
     "name": "stdout",
     "output_type": "stream",
     "text": [
      "Before rounding:  [[0.14746158 0.33351341]\n",
      " [0.26787263 0.01813658]]\n"
     ]
    },
    {
     "data": {
      "text/plain": [
       "array([[0.15, 0.33],\n",
       "       [0.27, 0.02]])"
      ]
     },
     "execution_count": 33,
     "metadata": {},
     "output_type": "execute_result"
    }
   ],
   "source": [
    "arr = np.random.random((2,2))\n",
    "print('Before rounding: ',arr)\n",
    "arr1 = np.round(arr,2)\n",
    "arr1"
   ]
  },
  {
   "cell_type": "markdown",
   "metadata": {},
   "source": [
    "30. How to find common values between two arrays? (★☆☆)"
   ]
  },
  {
   "cell_type": "code",
   "execution_count": 34,
   "metadata": {},
   "outputs": [
    {
     "name": "stdout",
     "output_type": "stream",
     "text": [
      "[2 3 4]\n",
      "[4 3 1]\n",
      "Common values:  [3 4]\n"
     ]
    }
   ],
   "source": [
    "arr1 = np.array([2,3,4])\n",
    "arr2 = np.array([4,3,1])\n",
    "print(arr1)\n",
    "print(arr2)\n",
    "print(\"Common values: \", np.intersect1d(arr1,arr2))"
   ]
  },
  {
   "cell_type": "markdown",
   "metadata": {},
   "source": [
    "\n",
    "31. How to ignore all numpy warnings (not recommended)? (★☆☆)"
   ]
  },
  {
   "cell_type": "code",
   "execution_count": 2,
   "metadata": {},
   "outputs": [
    {
     "data": {
      "text/plain": [
       "{'divide': 'warn', 'over': 'warn', 'under': 'ignore', 'invalid': 'warn'}"
      ]
     },
     "execution_count": 2,
     "metadata": {},
     "output_type": "execute_result"
    }
   ],
   "source": [
    "import numpy as np\n",
    "\n",
    "np.seterr(all='ignore')\n"
   ]
  },
  {
   "cell_type": "markdown",
   "metadata": {},
   "source": [
    "32. Is the following expressions true? (★☆☆)\n",
    "np.sqrt(-1) == np.emath.sqrt(-1)"
   ]
  },
  {
   "cell_type": "code",
   "execution_count": null,
   "metadata": {},
   "outputs": [],
   "source": []
  },
  {
   "cell_type": "markdown",
   "metadata": {},
   "source": [
    "33. How to get the dates of yesterday, today and tomorrow? (★☆☆)"
   ]
  },
  {
   "cell_type": "code",
   "execution_count": 3,
   "metadata": {},
   "outputs": [
    {
     "name": "stdout",
     "output_type": "stream",
     "text": [
      "Yesterday: 2024-02-14\n",
      "Today: 2024-02-15\n",
      "Tomorrow: 2024-02-16\n"
     ]
    }
   ],
   "source": [
    "\n",
    "\n",
    "# Get today's date\n",
    "today = np.datetime64('today')\n",
    "\n",
    "# Get yesterday's date\n",
    "yesterday = today - np.timedelta64(1, 'D')\n",
    "\n",
    "# Get tomorrow's date\n",
    "tomorrow = today + np.timedelta64(1, 'D')\n",
    "\n",
    "print(\"Yesterday:\", yesterday)\n",
    "print(\"Today:\", today)\n",
    "print(\"Tomorrow:\", tomorrow)\n"
   ]
  },
  {
   "cell_type": "markdown",
   "metadata": {},
   "source": [
    "34. How to get all the dates corresponding to the month of July 2016? (★★☆)\n"
   ]
  },
  {
   "cell_type": "code",
   "execution_count": 4,
   "metadata": {},
   "outputs": [
    {
     "name": "stdout",
     "output_type": "stream",
     "text": [
      "Dates corresponding to July 2016:\n",
      "['2016-07-01' '2016-07-02' '2016-07-03' '2016-07-04' '2016-07-05'\n",
      " '2016-07-06' '2016-07-07' '2016-07-08' '2016-07-09' '2016-07-10'\n",
      " '2016-07-11' '2016-07-12' '2016-07-13' '2016-07-14' '2016-07-15'\n",
      " '2016-07-16' '2016-07-17' '2016-07-18' '2016-07-19' '2016-07-20'\n",
      " '2016-07-21' '2016-07-22' '2016-07-23' '2016-07-24' '2016-07-25'\n",
      " '2016-07-26' '2016-07-27' '2016-07-28' '2016-07-29' '2016-07-30'\n",
      " '2016-07-31']\n"
     ]
    }
   ],
   "source": [
    "\n",
    "\n",
    "# Define start and end dates for July 2016\n",
    "start_date = np.datetime64('2016-07-01')\n",
    "end_date = np.datetime64('2016-08-01')\n",
    "\n",
    "# Generate range of dates for July 2016\n",
    "dates_july_2016 = np.arange(start_date, end_date, dtype='datetime64[D]')\n",
    "\n",
    "print(\"Dates corresponding to July 2016:\")\n",
    "print(dates_july_2016)\n"
   ]
  },
  {
   "cell_type": "markdown",
   "metadata": {},
   "source": [
    "35. How to compute ((A+B)*(-A/2)) in place (without copy)? (★★☆)"
   ]
  },
  {
   "cell_type": "code",
   "execution_count": 5,
   "metadata": {},
   "outputs": [
    {
     "name": "stdout",
     "output_type": "stream",
     "text": [
      "Result: [-1.5 -1.5 -1.5]\n"
     ]
    }
   ],
   "source": [
    "# Define arrays A, B, and C\n",
    "A = np.ones(3) * 1\n",
    "B = np.ones(3) * 2\n",
    "\n",
    "# Compute ((A+B)*(-A/2)) in place without making a copy\n",
    "np.add(A, B, out=B)\n",
    "np.negative(A, out=A)\n",
    "np.divide(A, 2, out=A)\n",
    "result = np.multiply(A, B)\n",
    "\n",
    "print(\"Result:\", result)"
   ]
  },
  {
   "cell_type": "markdown",
   "metadata": {},
   "source": [
    "36. Extract the integer part of a random array of positive numbers using 4 different methods (★★☆)"
   ]
  },
  {
   "cell_type": "code",
   "execution_count": 7,
   "metadata": {},
   "outputs": [
    {
     "ename": "AttributeError",
     "evalue": "module 'numpy' has no attribute 'int'.\n`np.int` was a deprecated alias for the builtin `int`. To avoid this error in existing code, use `int` by itself. Doing this will not modify any behavior and is safe. When replacing `np.int`, you may wish to use e.g. `np.int64` or `np.int32` to specify the precision. If you wish to review your current use, check the release note link for additional information.\nThe aliases was originally deprecated in NumPy 1.20; for more details and guidance see the original release note at:\n    https://numpy.org/devdocs/release/1.20.0-notes.html#deprecations",
     "output_type": "error",
     "traceback": [
      "\u001b[0;31m---------------------------------------------------------------------------\u001b[0m",
      "\u001b[0;31mAttributeError\u001b[0m                            Traceback (most recent call last)",
      "Cell \u001b[0;32mIn[7], line 16\u001b[0m\n\u001b[1;32m     13\u001b[0m integer_part_casting \u001b[38;5;241m=\u001b[39m random_array\u001b[38;5;241m.\u001b[39mastype(\u001b[38;5;28mint\u001b[39m)\n\u001b[1;32m     15\u001b[0m \u001b[38;5;66;03m# Method 4: Using np.astype()\u001b[39;00m\n\u001b[0;32m---> 16\u001b[0m integer_part_astype \u001b[38;5;241m=\u001b[39m random_array\u001b[38;5;241m.\u001b[39mastype(\u001b[43mnp\u001b[49m\u001b[38;5;241;43m.\u001b[39;49m\u001b[43mint\u001b[49m)\n\u001b[1;32m     18\u001b[0m \u001b[38;5;66;03m# Display the results\u001b[39;00m\n\u001b[1;32m     19\u001b[0m \u001b[38;5;28mprint\u001b[39m(\u001b[38;5;124m\"\u001b[39m\u001b[38;5;124mMethod 1 (np.floor()):\u001b[39m\u001b[38;5;124m\"\u001b[39m, integer_part_floor)\n",
      "File \u001b[0;32m~/.local/lib/python3.9/site-packages/numpy/__init__.py:324\u001b[0m, in \u001b[0;36m__getattr__\u001b[0;34m(attr)\u001b[0m\n\u001b[1;32m    319\u001b[0m     warnings\u001b[38;5;241m.\u001b[39mwarn(\n\u001b[1;32m    320\u001b[0m         \u001b[38;5;124mf\u001b[39m\u001b[38;5;124m\"\u001b[39m\u001b[38;5;124mIn the future `np.\u001b[39m\u001b[38;5;132;01m{\u001b[39;00mattr\u001b[38;5;132;01m}\u001b[39;00m\u001b[38;5;124m` will be defined as the \u001b[39m\u001b[38;5;124m\"\u001b[39m\n\u001b[1;32m    321\u001b[0m         \u001b[38;5;124m\"\u001b[39m\u001b[38;5;124mcorresponding NumPy scalar.\u001b[39m\u001b[38;5;124m\"\u001b[39m, \u001b[38;5;167;01mFutureWarning\u001b[39;00m, stacklevel\u001b[38;5;241m=\u001b[39m\u001b[38;5;241m2\u001b[39m)\n\u001b[1;32m    323\u001b[0m \u001b[38;5;28;01mif\u001b[39;00m attr \u001b[38;5;129;01min\u001b[39;00m __former_attrs__:\n\u001b[0;32m--> 324\u001b[0m     \u001b[38;5;28;01mraise\u001b[39;00m \u001b[38;5;167;01mAttributeError\u001b[39;00m(__former_attrs__[attr])\n\u001b[1;32m    326\u001b[0m \u001b[38;5;28;01mif\u001b[39;00m attr \u001b[38;5;241m==\u001b[39m \u001b[38;5;124m'\u001b[39m\u001b[38;5;124mtesting\u001b[39m\u001b[38;5;124m'\u001b[39m:\n\u001b[1;32m    327\u001b[0m     \u001b[38;5;28;01mimport\u001b[39;00m \u001b[38;5;21;01mnumpy\u001b[39;00m\u001b[38;5;21;01m.\u001b[39;00m\u001b[38;5;21;01mtesting\u001b[39;00m \u001b[38;5;28;01mas\u001b[39;00m \u001b[38;5;21;01mtesting\u001b[39;00m\n",
      "\u001b[0;31mAttributeError\u001b[0m: module 'numpy' has no attribute 'int'.\n`np.int` was a deprecated alias for the builtin `int`. To avoid this error in existing code, use `int` by itself. Doing this will not modify any behavior and is safe. When replacing `np.int`, you may wish to use e.g. `np.int64` or `np.int32` to specify the precision. If you wish to review your current use, check the release note link for additional information.\nThe aliases was originally deprecated in NumPy 1.20; for more details and guidance see the original release note at:\n    https://numpy.org/devdocs/release/1.20.0-notes.html#deprecations"
     ]
    }
   ],
   "source": [
    "import numpy as np\n",
    "\n",
    "# Generate a random array of positive numbers\n",
    "random_array = np.random.rand(5) * 10  # Multiply by 10 for larger numbers\n",
    "\n",
    "# Method 1: Using np.floor()\n",
    "integer_part_floor = np.floor(random_array)\n",
    "\n",
    "# Method 2: Using np.trunc()\n",
    "integer_part_trunc = np.trunc(random_array)\n",
    "\n",
    "# Method 3: Using type casting to int\n",
    "integer_part_casting = random_array.astype(int)\n",
    "\n",
    "# Method 4: Using np.astype()\n",
    "integer_part_astype = random_array.astype(np.int)\n",
    "\n",
    "# Display the results\n",
    "print(\"Method 1 (np.floor()):\", integer_part_floor)\n",
    "print(\"Method 2 (np.trunc()):\", integer_part_trunc)\n",
    "print(\"Method 3 (type casting to int):\", integer_part_casting)\n",
    "print(\"Method 4 (np.astype()):\", integer_part_astype)\n"
   ]
  },
  {
   "cell_type": "markdown",
   "metadata": {},
   "source": [
    "37. Create a 5x5 matrix with row values ranging from 0 to 4 (★★☆)"
   ]
  },
  {
   "cell_type": "code",
   "execution_count": 8,
   "metadata": {},
   "outputs": [
    {
     "name": "stdout",
     "output_type": "stream",
     "text": [
      "[[0 1 2 3 4]\n",
      " [0 1 2 3 4]\n",
      " [0 1 2 3 4]\n",
      " [0 1 2 3 4]\n",
      " [0 1 2 3 4]]\n"
     ]
    }
   ],
   "source": [
    "# Create an array with values ranging from 0 to 4\n",
    "row_values = np.arange(5)\n",
    "\n",
    "# Repeat the row_values array 5 times along the rows to form a 5x5 matrix\n",
    "matrix_5x5 = np.tile(row_values, (5, 1))\n",
    "\n",
    "# Display the resulting matrix\n",
    "print(matrix_5x5)"
   ]
  },
  {
   "cell_type": "markdown",
   "metadata": {},
   "source": [
    "38. Consider a generator function that generates 10 integers and use it to build an array (★☆☆)"
   ]
  },
  {
   "cell_type": "code",
   "execution_count": 9,
   "metadata": {},
   "outputs": [
    {
     "name": "stdout",
     "output_type": "stream",
     "text": [
      "[0 1 2 3 4 5 6 7 8 9]\n"
     ]
    }
   ],
   "source": [
    "# Define the generator function\n",
    "def generate_integers():\n",
    "    for i in range(10):\n",
    "        yield i\n",
    "\n",
    "# Use the generator function to build an array\n",
    "arr = np.fromiter(generate_integers(), dtype=int)\n",
    "\n",
    "# Display the resulting array\n",
    "print(arr)"
   ]
  },
  {
   "cell_type": "markdown",
   "metadata": {},
   "source": [
    "39. Create a vector of size 10 with values ranging from 0 to 1, both excluded (★★☆)"
   ]
  },
  {
   "cell_type": "code",
   "execution_count": 10,
   "metadata": {},
   "outputs": [
    {
     "name": "stdout",
     "output_type": "stream",
     "text": [
      "[0.09090909 0.18181818 0.27272727 0.36363636 0.45454545 0.54545455\n",
      " 0.63636364 0.72727273 0.81818182 0.90909091]\n"
     ]
    }
   ],
   "source": [
    "# Create a vector of size 10 with values ranging from 0 to 1, both excluded\n",
    "vector = np.linspace(0, 1, 12)[1:-1]\n",
    "\n",
    "# Display the resulting vector\n",
    "print(vector)"
   ]
  },
  {
   "cell_type": "markdown",
   "metadata": {},
   "source": [
    "\n",
    "40. Create a random vector of size 10 and sort it (★★☆)"
   ]
  },
  {
   "cell_type": "code",
   "execution_count": 11,
   "metadata": {},
   "outputs": [
    {
     "name": "stdout",
     "output_type": "stream",
     "text": [
      "[0.00731686 0.08515158 0.20993692 0.44048547 0.57752295 0.5787081\n",
      " 0.58054734 0.65911964 0.84025516 0.99387645]\n"
     ]
    }
   ],
   "source": [
    "# Create a random vector of size 10\n",
    "random_vector = np.random.rand(10)\n",
    "\n",
    "# Sort the random vector\n",
    "sorted_vector = np.sort(random_vector)\n",
    "\n",
    "# Display the sorted vector\n",
    "print(sorted_vector)"
   ]
  },
  {
   "cell_type": "markdown",
   "metadata": {},
   "source": [
    "41. How to sum a small array faster than np.sum? (★★☆)"
   ]
  },
  {
   "cell_type": "code",
   "execution_count": null,
   "metadata": {},
   "outputs": [],
   "source": [
    "nap.nansum()"
   ]
  },
  {
   "cell_type": "markdown",
   "metadata": {},
   "source": [
    "42. Consider two random array A and B, check if they are equal (★★☆)"
   ]
  },
  {
   "cell_type": "code",
   "execution_count": 15,
   "metadata": {},
   "outputs": [
    {
     "name": "stdout",
     "output_type": "stream",
     "text": [
      "False\n"
     ]
    }
   ],
   "source": [
    "# Assuming A and B are two random arrays\n",
    "A = np.random.rand(3, 3)\n",
    "B = np.random.rand(3, 3)\n",
    "\n",
    "# Check if A and B are equal\n",
    "equal = np.array_equal(A, B)\n",
    "print(equal)"
   ]
  },
  {
   "cell_type": "markdown",
   "metadata": {},
   "source": [
    "\n",
    "43. Make an array immutable (read-only) (★★☆)"
   ]
  },
  {
   "cell_type": "code",
   "execution_count": 16,
   "metadata": {},
   "outputs": [],
   "source": [
    "# Create a NumPy array\n",
    "arr = np.array([1, 2, 3, 4, 5])\n",
    "\n",
    "# Make the array immutable\n",
    "arr.flags.writeable = False"
   ]
  },
  {
   "cell_type": "markdown",
   "metadata": {},
   "source": [
    "44. Consider a random 10x2 matrix representing cartesian coordinates, convert them to polar coordinates (★★☆)"
   ]
  },
  {
   "cell_type": "code",
   "execution_count": 18,
   "metadata": {},
   "outputs": [
    {
     "name": "stdout",
     "output_type": "stream",
     "text": [
      "Polar Coordinates:\n",
      "[[0.65140075 0.3218955 ]\n",
      " [0.57489179 0.2384781 ]\n",
      " [0.81814215 0.24195821]\n",
      " [1.0213542  0.45385071]\n",
      " [0.76996337 0.1178604 ]\n",
      " [0.84259096 1.20359031]\n",
      " [0.49948262 0.81840154]\n",
      " [0.93451528 1.22855722]\n",
      " [1.10515958 0.45250692]\n",
      " [0.81926439 1.2889208 ]]\n"
     ]
    }
   ],
   "source": [
    "# Create a random 10x2 matrix representing cartesian coordinates\n",
    "cartesian_coords = np.random.rand(10, 2)\n",
    "\n",
    "# Convert cartesian coordinates to polar coordinates\n",
    "x, y = cartesian_coords[:, 0], cartesian_coords[:, 1]\n",
    "r = np.linalg.norm(cartesian_coords, axis=1)\n",
    "theta = np.arctan2(y, x)\n",
    "\n",
    "# Display polar coordinates\n",
    "polar_coords = np.column_stack((r, theta))\n",
    "print(\"Polar Coordinates:\")\n",
    "print(polar_coords)"
   ]
  },
  {
   "cell_type": "markdown",
   "metadata": {},
   "source": [
    "\n",
    "45. Create random vector of size 10 and replace the maximum value by 0 (★★☆)"
   ]
  },
  {
   "cell_type": "code",
   "execution_count": 19,
   "metadata": {},
   "outputs": [
    {
     "name": "stdout",
     "output_type": "stream",
     "text": [
      "Random vector with the maximum value replaced by 0:\n",
      "[0.48127532 0.0648461  0.         0.16613001 0.13492793 0.90050153\n",
      " 0.02819775 0.80015481 0.38395622 0.94989172]\n"
     ]
    }
   ],
   "source": [
    "# Create a random vector of size 10\n",
    "random_vector = np.random.rand(10)\n",
    "\n",
    "# Find the index of the maximum value\n",
    "max_index = np.argmax(random_vector)\n",
    "\n",
    "# Replace the maximum value with 0\n",
    "random_vector[max_index] = 0\n",
    "\n",
    "print(\"Random vector with the maximum value replaced by 0:\")\n",
    "print(random_vector)"
   ]
  },
  {
   "cell_type": "markdown",
   "metadata": {},
   "source": [
    "46. Create a structured array with x and y coordinates covering the [0,1]x[0,1] area (★★☆)"
   ]
  },
  {
   "cell_type": "code",
   "execution_count": 20,
   "metadata": {},
   "outputs": [
    {
     "name": "stdout",
     "output_type": "stream",
     "text": [
      "Structured array with x and y coordinates covering [0,1]x[0,1]:\n",
      "[[0.         0.        ]\n",
      " [0.11111111 0.        ]\n",
      " [0.22222222 0.        ]\n",
      " [0.33333333 0.        ]\n",
      " [0.44444444 0.        ]\n",
      " [0.55555556 0.        ]\n",
      " [0.66666667 0.        ]\n",
      " [0.77777778 0.        ]\n",
      " [0.88888889 0.        ]\n",
      " [1.         0.        ]\n",
      " [0.         0.11111111]\n",
      " [0.11111111 0.11111111]\n",
      " [0.22222222 0.11111111]\n",
      " [0.33333333 0.11111111]\n",
      " [0.44444444 0.11111111]\n",
      " [0.55555556 0.11111111]\n",
      " [0.66666667 0.11111111]\n",
      " [0.77777778 0.11111111]\n",
      " [0.88888889 0.11111111]\n",
      " [1.         0.11111111]\n",
      " [0.         0.22222222]\n",
      " [0.11111111 0.22222222]\n",
      " [0.22222222 0.22222222]\n",
      " [0.33333333 0.22222222]\n",
      " [0.44444444 0.22222222]\n",
      " [0.55555556 0.22222222]\n",
      " [0.66666667 0.22222222]\n",
      " [0.77777778 0.22222222]\n",
      " [0.88888889 0.22222222]\n",
      " [1.         0.22222222]\n",
      " [0.         0.33333333]\n",
      " [0.11111111 0.33333333]\n",
      " [0.22222222 0.33333333]\n",
      " [0.33333333 0.33333333]\n",
      " [0.44444444 0.33333333]\n",
      " [0.55555556 0.33333333]\n",
      " [0.66666667 0.33333333]\n",
      " [0.77777778 0.33333333]\n",
      " [0.88888889 0.33333333]\n",
      " [1.         0.33333333]\n",
      " [0.         0.44444444]\n",
      " [0.11111111 0.44444444]\n",
      " [0.22222222 0.44444444]\n",
      " [0.33333333 0.44444444]\n",
      " [0.44444444 0.44444444]\n",
      " [0.55555556 0.44444444]\n",
      " [0.66666667 0.44444444]\n",
      " [0.77777778 0.44444444]\n",
      " [0.88888889 0.44444444]\n",
      " [1.         0.44444444]\n",
      " [0.         0.55555556]\n",
      " [0.11111111 0.55555556]\n",
      " [0.22222222 0.55555556]\n",
      " [0.33333333 0.55555556]\n",
      " [0.44444444 0.55555556]\n",
      " [0.55555556 0.55555556]\n",
      " [0.66666667 0.55555556]\n",
      " [0.77777778 0.55555556]\n",
      " [0.88888889 0.55555556]\n",
      " [1.         0.55555556]\n",
      " [0.         0.66666667]\n",
      " [0.11111111 0.66666667]\n",
      " [0.22222222 0.66666667]\n",
      " [0.33333333 0.66666667]\n",
      " [0.44444444 0.66666667]\n",
      " [0.55555556 0.66666667]\n",
      " [0.66666667 0.66666667]\n",
      " [0.77777778 0.66666667]\n",
      " [0.88888889 0.66666667]\n",
      " [1.         0.66666667]\n",
      " [0.         0.77777778]\n",
      " [0.11111111 0.77777778]\n",
      " [0.22222222 0.77777778]\n",
      " [0.33333333 0.77777778]\n",
      " [0.44444444 0.77777778]\n",
      " [0.55555556 0.77777778]\n",
      " [0.66666667 0.77777778]\n",
      " [0.77777778 0.77777778]\n",
      " [0.88888889 0.77777778]\n",
      " [1.         0.77777778]\n",
      " [0.         0.88888889]\n",
      " [0.11111111 0.88888889]\n",
      " [0.22222222 0.88888889]\n",
      " [0.33333333 0.88888889]\n",
      " [0.44444444 0.88888889]\n",
      " [0.55555556 0.88888889]\n",
      " [0.66666667 0.88888889]\n",
      " [0.77777778 0.88888889]\n",
      " [0.88888889 0.88888889]\n",
      " [1.         0.88888889]\n",
      " [0.         1.        ]\n",
      " [0.11111111 1.        ]\n",
      " [0.22222222 1.        ]\n",
      " [0.33333333 1.        ]\n",
      " [0.44444444 1.        ]\n",
      " [0.55555556 1.        ]\n",
      " [0.66666667 1.        ]\n",
      " [0.77777778 1.        ]\n",
      " [0.88888889 1.        ]\n",
      " [1.         1.        ]]\n"
     ]
    }
   ],
   "source": [
    "# Define the number of points in each dimension\n",
    "n_points = 10\n",
    "\n",
    "# Generate x and y coordinates covering the [0,1]x[0,1] area\n",
    "x_coords = np.linspace(0, 1, n_points)\n",
    "y_coords = np.linspace(0, 1, n_points)\n",
    "\n",
    "# Create a meshgrid of x and y coordinates\n",
    "X, Y = np.meshgrid(x_coords, y_coords)\n",
    "\n",
    "# Stack the x and y coordinates into a structured array\n",
    "structured_array = np.vstack((X.ravel(), Y.ravel())).T\n",
    "\n",
    "print(\"Structured array with x and y coordinates covering [0,1]x[0,1]:\")\n",
    "print(structured_array)"
   ]
  },
  {
   "cell_type": "markdown",
   "metadata": {},
   "source": [
    "47. Given two arrays, X and Y, construct the Cauchy matrix C (Cij =1/(xi - yj))"
   ]
  },
  {
   "cell_type": "code",
   "execution_count": 21,
   "metadata": {},
   "outputs": [
    {
     "name": "stdout",
     "output_type": "stream",
     "text": [
      "Cauchy matrix C:\n",
      "[[-0.33333333 -0.25       -0.2       ]\n",
      " [-0.5        -0.33333333 -0.25      ]\n",
      " [-1.         -0.5        -0.33333333]]\n"
     ]
    }
   ],
   "source": [
    "# Define the arrays X and Y\n",
    "X = np.array([1, 2, 3])\n",
    "Y = np.array([4, 5, 6])\n",
    "\n",
    "# Calculate the differences between elements of X and Y\n",
    "diffs = 1 / (X[:, np.newaxis] - Y)\n",
    "\n",
    "# The Cauchy matrix C is constructed from the differences\n",
    "C = diffs\n",
    "\n",
    "print(\"Cauchy matrix C:\")\n",
    "print(C)"
   ]
  },
  {
   "cell_type": "markdown",
   "metadata": {},
   "source": [
    "48. Print the minimum and maximum representable value for each numpy scalar type (★★☆)"
   ]
  },
  {
   "cell_type": "code",
   "execution_count": 22,
   "metadata": {},
   "outputs": [
    {
     "name": "stdout",
     "output_type": "stream",
     "text": [
      "Integer type: <class 'numpy.int8'>, Min: -128, Max: 127\n",
      "Integer type: <class 'numpy.int16'>, Min: -32768, Max: 32767\n",
      "Integer type: <class 'numpy.int32'>, Min: -2147483648, Max: 2147483647\n",
      "Integer type: <class 'numpy.int64'>, Min: -9223372036854775808, Max: 9223372036854775807\n",
      "Float type: <class 'numpy.float16'>, Min: -65504.0, Max: 65504.0\n",
      "Float type: <class 'numpy.float32'>, Min: -3.4028234663852886e+38, Max: 3.4028234663852886e+38\n",
      "Float type: <class 'numpy.float64'>, Min: -1.7976931348623157e+308, Max: 1.7976931348623157e+308\n"
     ]
    },
    {
     "name": "stderr",
     "output_type": "stream",
     "text": [
      "/home/musbah/.local/lib/python3.9/site-packages/numpy/core/getlimits.py:542: UserWarning: Signature b'\\x00\\xd0\\xcc\\xcc\\xcc\\xcc\\xcc\\xcc\\xfb\\xbf\\x00\\x00\\x00\\x00\\x00\\x00' for <class 'numpy.longdouble'> does not match any known type: falling back to type probe function.\n",
      "This warnings indicates broken support for the dtype!\n",
      "  machar = _get_machar(dtype)\n"
     ]
    },
    {
     "name": "stdout",
     "output_type": "stream",
     "text": [
      "Float type: <class 'numpy.longdouble'>, Min: -inf, Max: inf\n"
     ]
    }
   ],
   "source": [
    "\n",
    "\n",
    "# Print minimum and maximum representable values for integer types\n",
    "for dtype in np.sctypes['int']:\n",
    "    info = np.iinfo(dtype)\n",
    "    print(f\"Integer type: {dtype}, Min: {info.min}, Max: {info.max}\")\n",
    "\n",
    "# Print minimum and maximum representable values for floating-point types\n",
    "for dtype in np.sctypes['float']:\n",
    "    info = np.finfo(dtype)\n",
    "    print(f\"Float type: {dtype}, Min: {info.min}, Max: {info.max}\")\n"
   ]
  },
  {
   "cell_type": "markdown",
   "metadata": {},
   "source": [
    "49. How to print all the values of an array? (★★☆)"
   ]
  },
  {
   "cell_type": "code",
   "execution_count": 23,
   "metadata": {},
   "outputs": [
    {
     "name": "stdout",
     "output_type": "stream",
     "text": [
      "[ 0  1  2  3  4  5  6  7  8  9 10 11 12 13 14 15 16 17 18 19]\n"
     ]
    }
   ],
   "source": [
    "# Create an array (replace this with your array)\n",
    "arr = np.arange(20)\n",
    "\n",
    "# Set print options to print all values without truncation\n",
    "np.set_printoptions(threshold=np.inf)\n",
    "\n",
    "# Print the array\n",
    "print(arr)"
   ]
  },
  {
   "cell_type": "markdown",
   "metadata": {},
   "source": [
    "\n",
    "50. How to find the closest value (to a given scalar) in a vector? (★★☆)"
   ]
  },
  {
   "cell_type": "code",
   "execution_count": 24,
   "metadata": {},
   "outputs": [
    {
     "name": "stdout",
     "output_type": "stream",
     "text": [
      "Closest value to 6 in the vector: 5\n"
     ]
    }
   ],
   "source": [
    "# Example vector\n",
    "vector = np.array([1, 3, 5, 7, 9])\n",
    "\n",
    "# Given scalar\n",
    "scalar = 6\n",
    "\n",
    "# Find the index of the closest value\n",
    "index = np.abs(vector - scalar).argmin()\n",
    "\n",
    "# Get the closest value\n",
    "closest_value = vector[index]\n",
    "\n",
    "print(\"Closest value to\", scalar, \"in the vector:\", closest_value)"
   ]
  }
 ],
 "metadata": {
  "kernelspec": {
   "display_name": "Python 3",
   "language": "python",
   "name": "python3"
  },
  "language_info": {
   "codemirror_mode": {
    "name": "ipython",
    "version": 3
   },
   "file_extension": ".py",
   "mimetype": "text/x-python",
   "name": "python",
   "nbconvert_exporter": "python",
   "pygments_lexer": "ipython3",
   "version": "3.9.18"
  }
 },
 "nbformat": 4,
 "nbformat_minor": 2
}
