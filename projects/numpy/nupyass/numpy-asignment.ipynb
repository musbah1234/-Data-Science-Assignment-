{
 "cells": [
  {
   "cell_type": "code",
   "execution_count": 1,
   "metadata": {},
   "outputs": [],
   "source": [
    "import numpy as np"
   ]
  },
  {
   "cell_type": "markdown",
   "metadata": {},
   "source": [
    "2. Print the numpy version and the configuration (★☆☆)"
   ]
  },
  {
   "cell_type": "code",
   "execution_count": 3,
   "metadata": {},
   "outputs": [
    {
     "name": "stdout",
     "output_type": "stream",
     "text": [
      "NumPy version: 1.26.4\n",
      "Build Dependencies:\n",
      "  blas:\n",
      "    detection method: pkgconfig\n",
      "    found: true\n",
      "    include directory: /usr/local/include\n",
      "    lib directory: /usr/local/lib\n",
      "    name: openblas64\n",
      "    openblas configuration: USE_64BITINT=1 DYNAMIC_ARCH=1 DYNAMIC_OLDER= NO_CBLAS=\n",
      "      NO_LAPACK= NO_LAPACKE= NO_AFFINITY=1 USE_OPENMP= HASWELL MAX_THREADS=2\n",
      "    pc file directory: /usr/local/lib/pkgconfig\n",
      "    version: 0.3.23.dev\n",
      "  lapack:\n",
      "    detection method: internal\n",
      "    found: true\n",
      "    include directory: unknown\n",
      "    lib directory: unknown\n",
      "    name: dep139810746332592\n",
      "    openblas configuration: unknown\n",
      "    pc file directory: unknown\n",
      "    version: 1.26.4\n",
      "Compilers:\n",
      "  c:\n",
      "    args: -fno-strict-aliasing\n",
      "    commands: cc\n",
      "    linker: ld.bfd\n",
      "    linker args: -Wl,--strip-debug, -fno-strict-aliasing\n",
      "    name: gcc\n",
      "    version: 10.2.1\n",
      "  c++:\n",
      "    commands: c++\n",
      "    linker: ld.bfd\n",
      "    linker args: -Wl,--strip-debug\n",
      "    name: gcc\n",
      "    version: 10.2.1\n",
      "  cython:\n",
      "    commands: cython\n",
      "    linker: cython\n",
      "    name: cython\n",
      "    version: 3.0.8\n",
      "Machine Information:\n",
      "  build:\n",
      "    cpu: x86_64\n",
      "    endian: little\n",
      "    family: x86_64\n",
      "    system: linux\n",
      "  host:\n",
      "    cpu: x86_64\n",
      "    endian: little\n",
      "    family: x86_64\n",
      "    system: linux\n",
      "Python Information:\n",
      "  path: /opt/python/cp39-cp39/bin/python\n",
      "  version: '3.9'\n",
      "SIMD Extensions:\n",
      "  baseline:\n",
      "  - SSE\n",
      "  - SSE2\n",
      "  - SSE3\n",
      "  found:\n",
      "  - SSSE3\n",
      "  - SSE41\n",
      "  - POPCNT\n",
      "  - SSE42\n",
      "  - AVX\n",
      "  not found:\n",
      "  - F16C\n",
      "  - FMA3\n",
      "  - AVX2\n",
      "  - AVX512F\n",
      "  - AVX512CD\n",
      "  - AVX512_KNL\n",
      "  - AVX512_KNM\n",
      "  - AVX512_SKX\n",
      "  - AVX512_CLX\n",
      "  - AVX512_CNL\n",
      "  - AVX512_ICL\n",
      "\n"
     ]
    }
   ],
   "source": [
    "import numpy as np\n",
    "\n",
    "# Print the NumPy version\n",
    "print(\"NumPy version:\", np.__version__)\n",
    "\n",
    "# Print the NumPy configuration\n",
    "np.show_config()\n"
   ]
  },
  {
   "cell_type": "markdown",
   "metadata": {},
   "source": [
    "3. Create a null vector of size 10 (★☆☆)"
   ]
  },
  {
   "cell_type": "code",
   "execution_count": 4,
   "metadata": {},
   "outputs": [
    {
     "data": {
      "text/plain": [
       "array([0., 0., 0., 0., 0., 0., 0., 0., 0., 0.])"
      ]
     },
     "execution_count": 4,
     "metadata": {},
     "output_type": "execute_result"
    }
   ],
   "source": [
    "array = np.zeros(10)\n",
    "array"
   ]
  },
  {
   "cell_type": "markdown",
   "metadata": {},
   "source": [
    "4. How to find the memory size of any array (★☆☆)"
   ]
  },
  {
   "cell_type": "code",
   "execution_count": 5,
   "metadata": {},
   "outputs": [
    {
     "name": "stdout",
     "output_type": "stream",
     "text": [
      "80 bytes\n"
     ]
    }
   ],
   "source": [
    "print(\"%d bytes\" % (array.size * array.itemsize))"
   ]
  },
  {
   "cell_type": "code",
   "execution_count": 6,
   "metadata": {},
   "outputs": [
    {
     "name": "stdout",
     "output_type": "stream",
     "text": [
      "Help on ufunc:\n",
      "\n",
      "add = <ufunc 'add'>\n",
      "    add(x1, x2, /, out=None, *, where=True, casting='same_kind', order='K', dtype=None, subok=True[, signature, extobj])\n",
      "    \n",
      "    Add arguments element-wise.\n",
      "    \n",
      "    Parameters\n",
      "    ----------\n",
      "    x1, x2 : array_like\n",
      "        The arrays to be added.\n",
      "        If ``x1.shape != x2.shape``, they must be broadcastable to a common\n",
      "        shape (which becomes the shape of the output).\n",
      "    out : ndarray, None, or tuple of ndarray and None, optional\n",
      "        A location into which the result is stored. If provided, it must have\n",
      "        a shape that the inputs broadcast to. If not provided or None,\n",
      "        a freshly-allocated array is returned. A tuple (possible only as a\n",
      "        keyword argument) must have length equal to the number of outputs.\n",
      "    where : array_like, optional\n",
      "        This condition is broadcast over the input. At locations where the\n",
      "        condition is True, the `out` array will be set to the ufunc result.\n",
      "        Elsewhere, the `out` array will retain its original value.\n",
      "        Note that if an uninitialized `out` array is created via the default\n",
      "        ``out=None``, locations within it where the condition is False will\n",
      "        remain uninitialized.\n",
      "    **kwargs\n",
      "        For other keyword-only arguments, see the\n",
      "        :ref:`ufunc docs <ufuncs.kwargs>`.\n",
      "    \n",
      "    Returns\n",
      "    -------\n",
      "    add : ndarray or scalar\n",
      "        The sum of `x1` and `x2`, element-wise.\n",
      "        This is a scalar if both `x1` and `x2` are scalars.\n",
      "    \n",
      "    Notes\n",
      "    -----\n",
      "    Equivalent to `x1` + `x2` in terms of array broadcasting.\n",
      "    \n",
      "    Examples\n",
      "    --------\n",
      "    >>> np.add(1.0, 4.0)\n",
      "    5.0\n",
      "    >>> x1 = np.arange(9.0).reshape((3, 3))\n",
      "    >>> x2 = np.arange(3.0)\n",
      "    >>> np.add(x1, x2)\n",
      "    array([[  0.,   2.,   4.],\n",
      "           [  3.,   5.,   7.],\n",
      "           [  6.,   8.,  10.]])\n",
      "    \n",
      "    The ``+`` operator can be used as a shorthand for ``np.add`` on ndarrays.\n",
      "    \n",
      "    >>> x1 = np.arange(9.0).reshape((3, 3))\n",
      "    >>> x2 = np.arange(3.0)\n",
      "    >>> x1 + x2\n",
      "    array([[ 0.,  2.,  4.],\n",
      "           [ 3.,  5.,  7.],\n",
      "           [ 6.,  8., 10.]])\n",
      "\n"
     ]
    }
   ],
   "source": [
    "help(np.add)"
   ]
  },
  {
   "cell_type": "markdown",
   "metadata": {},
   "source": [
    "5. How to get the documentation of the numpy add function from the command line? (★☆☆)"
   ]
  },
  {
   "cell_type": "code",
   "execution_count": null,
   "metadata": {},
   "outputs": [],
   "source": []
  },
  {
   "cell_type": "markdown",
   "metadata": {},
   "source": [
    "6. Create a null vector of size 10 but the fifth value which is 1 (★☆☆)"
   ]
  },
  {
   "cell_type": "code",
   "execution_count": 7,
   "metadata": {},
   "outputs": [
    {
     "data": {
      "text/plain": [
       "array([0., 0., 0., 0., 1., 0., 0., 0., 0., 0.])"
      ]
     },
     "execution_count": 7,
     "metadata": {},
     "output_type": "execute_result"
    }
   ],
   "source": [
    "arr = np.zeros(10)\n",
    "arr[4] = 1\n",
    "arr"
   ]
  },
  {
   "cell_type": "markdown",
   "metadata": {},
   "source": [
    "7. Create a vector with values ranging from 10 to 49 (★☆☆)"
   ]
  },
  {
   "cell_type": "code",
   "execution_count": 8,
   "metadata": {},
   "outputs": [
    {
     "data": {
      "text/plain": [
       "array([10, 11, 12, 13, 14, 15, 16, 17, 18, 19, 20, 21, 22, 23, 24, 25, 26,\n",
       "       27, 28, 29, 30, 31, 32, 33, 34, 35, 36, 37, 38, 39, 40, 41, 42, 43,\n",
       "       44, 45, 46, 47, 48, 49])"
      ]
     },
     "execution_count": 8,
     "metadata": {},
     "output_type": "execute_result"
    }
   ],
   "source": [
    "vector = np.arange(10,50)\n",
    "vector"
   ]
  },
  {
   "cell_type": "markdown",
   "metadata": {},
   "source": [
    "8. Reverse a vector (first element becomes last) (★☆☆)"
   ]
  },
  {
   "cell_type": "code",
   "execution_count": 9,
   "metadata": {},
   "outputs": [
    {
     "name": "stdout",
     "output_type": "stream",
     "text": [
      "[49 48 47 46 45 44 43 42 41 40 39 38 37 36 35 34 33 32 31 30 29 28 27 26\n",
      " 25 24 23 22 21 20 19 18 17 16 15 14 13 12 11 10]\n"
     ]
    }
   ],
   "source": [
    "print(vector[::-1])"
   ]
  },
  {
   "cell_type": "markdown",
   "metadata": {},
   "source": [
    "9. Create a 3x3 matrix with values ranging from 0 to 8 (★☆☆)"
   ]
  },
  {
   "cell_type": "code",
   "execution_count": 10,
   "metadata": {},
   "outputs": [
    {
     "data": {
      "text/plain": [
       "array([[0, 1, 2],\n",
       "       [3, 4, 5],\n",
       "       [6, 7, 8]])"
      ]
     },
     "execution_count": 10,
     "metadata": {},
     "output_type": "execute_result"
    }
   ],
   "source": [
    "vector_3 = np.arange(0,9)\n",
    "vector_3 = vector_3.reshape(3,3)\n",
    "vector_3"
   ]
  },
  {
   "cell_type": "markdown",
   "metadata": {},
   "source": [
    "vector_3 = np.arange(0,9)"
   ]
  },
  {
   "cell_type": "code",
   "execution_count": 11,
   "metadata": {},
   "outputs": [
    {
     "data": {
      "text/plain": [
       "(array([0, 1, 4]),)"
      ]
     },
     "execution_count": 11,
     "metadata": {},
     "output_type": "execute_result"
    }
   ],
   "source": [
    "np.nonzero([1,2,0,0,4,0])"
   ]
  },
  {
   "cell_type": "markdown",
   "metadata": {},
   "source": [
    "11. Create a 3x3 identity matrix (★☆☆)"
   ]
  },
  {
   "cell_type": "code",
   "execution_count": 12,
   "metadata": {},
   "outputs": [
    {
     "data": {
      "text/plain": [
       "array([[1., 0., 0.],\n",
       "       [0., 1., 0.],\n",
       "       [0., 0., 1.]])"
      ]
     },
     "execution_count": 12,
     "metadata": {},
     "output_type": "execute_result"
    }
   ],
   "source": [
    "np.eye(3,3)"
   ]
  },
  {
   "cell_type": "markdown",
   "metadata": {},
   "source": [
    "12. Create a 3x3x3 array with random values (★☆☆)"
   ]
  },
  {
   "cell_type": "code",
   "execution_count": 13,
   "metadata": {},
   "outputs": [
    {
     "data": {
      "text/plain": [
       "array([[[0.75133133, 0.20457758, 0.57746832],\n",
       "        [0.02644752, 0.91048648, 0.45389618],\n",
       "        [0.03033756, 0.34597299, 0.97234919]],\n",
       "\n",
       "       [[0.4143977 , 0.24479983, 0.64431564],\n",
       "        [0.75956703, 0.44264984, 0.65243226],\n",
       "        [0.22660402, 0.83971069, 0.33649305]],\n",
       "\n",
       "       [[0.81648358, 0.98745791, 0.63057979],\n",
       "        [0.42665742, 0.99929306, 0.9496242 ],\n",
       "        [0.30569773, 0.14764879, 0.67682279]]])"
      ]
     },
     "execution_count": 13,
     "metadata": {},
     "output_type": "execute_result"
    }
   ],
   "source": [
    "np.random.rand(3,3,3)"
   ]
  },
  {
   "cell_type": "markdown",
   "metadata": {},
   "source": [
    "13. Create a 10x10 array with random values and find the minimum and maximum values (★☆☆)"
   ]
  },
  {
   "cell_type": "code",
   "execution_count": 14,
   "metadata": {},
   "outputs": [
    {
     "name": "stdout",
     "output_type": "stream",
     "text": [
      "[[0.95493371 0.70760505 0.21255653 0.30889964 0.93555716 0.01761683\n",
      "  0.6292771  0.25001237 0.5494918  0.48024354]\n",
      " [0.34301483 0.42206955 0.71720039 0.76362902 0.58305874 0.63853484\n",
      "  0.12841163 0.28363422 0.35932976 0.11587057]\n",
      " [0.23358558 0.82251216 0.42189914 0.3471397  0.32910446 0.48695338\n",
      "  0.25657316 0.43617422 0.30244381 0.61356113]\n",
      " [0.90311987 0.88398889 0.69478312 0.98246753 0.07406888 0.80466079\n",
      "  0.55207518 0.14619415 0.11983822 0.79012195]\n",
      " [0.87725737 0.57820418 0.24580576 0.97520048 0.78665542 0.18955706\n",
      "  0.60869784 0.40402203 0.09546527 0.42996557]\n",
      " [0.71292672 0.52658222 0.20310325 0.62789611 0.89584172 0.42010056\n",
      "  0.91534717 0.5829308  0.71921242 0.5513248 ]\n",
      " [0.03501703 0.52337777 0.09208968 0.03336782 0.78887743 0.634787\n",
      "  0.74968803 0.55500671 0.84207129 0.79373099]\n",
      " [0.3911379  0.13341852 0.82389324 0.3070833  0.21569518 0.16850675\n",
      "  0.27072358 0.35965021 0.38793231 0.91767425]\n",
      " [0.27950506 0.67341343 0.52528755 0.56377823 0.15806179 0.64175812\n",
      "  0.22607266 0.3696016  0.1889711  0.68505392]\n",
      " [0.51675147 0.5598725  0.91100084 0.81157756 0.17878341 0.45296349\n",
      "  0.07727917 0.95261025 0.60193871 0.17879432]]\n",
      "Maximum number of array:  0.9824675328132784\n",
      "Minimum number of array:  0.01761683158699956\n"
     ]
    }
   ],
   "source": [
    "arr_1 = np.random.rand(10,10)\n",
    "maximum = np.max(arr_1)\n",
    "minimum = np.min(arr_1)\n",
    "print(arr_1)\n",
    "print(\"Maximum number of array: \", maximum)\n",
    "print(\"Minimum number of array: \", minimum)"
   ]
  },
  {
   "cell_type": "markdown",
   "metadata": {},
   "source": [
    "14. Create a random vector of size 30 and find the mean value (★☆☆)"
   ]
  },
  {
   "cell_type": "code",
   "execution_count": 15,
   "metadata": {},
   "outputs": [
    {
     "name": "stdout",
     "output_type": "stream",
     "text": [
      "Array:  [-0.05897671  0.50954901  1.68526146 -1.13322529  0.76984475 -0.53072247\n",
      " -1.34012105 -0.22268054  0.03811597  1.75546092 -0.8095014  -1.22985569\n",
      " -0.85454639 -0.57666366  2.35856752  0.61275301 -1.18263252  0.80399714\n",
      " -0.28358606  0.72676992 -0.40695959 -0.46820711 -0.26075505  0.95087007\n",
      "  1.16097417 -0.7286581  -0.23196519  0.63809538  0.18566626  2.98910904]\n",
      "Mean of array:  0.16219926002347748\n"
     ]
    }
   ],
   "source": [
    "arr_2 = np.random.randn(30)\n",
    "mean_value = np.mean(arr_2)\n",
    "print(\"Array: \", arr_2)\n",
    "print(\"Mean of array: \", mean_value)"
   ]
  },
  {
   "cell_type": "markdown",
   "metadata": {},
   "source": [
    "15. Create a 2d array with 1 on the border and 0 inside (★☆☆)"
   ]
  },
  {
   "cell_type": "code",
   "execution_count": 17,
   "metadata": {},
   "outputs": [
    {
     "data": {
      "text/plain": [
       "array([[0., 0., 0., 0., 0.],\n",
       "       [0., 1., 1., 1., 0.],\n",
       "       [0., 1., 1., 1., 0.],\n",
       "       [0., 1., 1., 1., 0.],\n",
       "       [0., 0., 0., 0., 0.]])"
      ]
     },
     "execution_count": 17,
     "metadata": {},
     "output_type": "execute_result"
    }
   ],
   "source": [
    "sample_array = np.zeros((5,5))\n",
    "sample_array[1:-1,1:-1] = 1\n",
    "sample_array"
   ]
  },
  {
   "cell_type": "markdown",
   "metadata": {},
   "source": [
    "16. How to add a border (filled with 0's) around an existing array? (★☆☆)"
   ]
  },
  {
   "cell_type": "code",
   "execution_count": 18,
   "metadata": {},
   "outputs": [
    {
     "data": {
      "text/plain": [
       "array([[0.        , 0.        , 0.        , 0.        , 0.        ,\n",
       "        0.        , 0.        , 0.        , 0.        , 0.        ,\n",
       "        0.        , 0.        ],\n",
       "       [0.        , 0.95493371, 0.70760505, 0.21255653, 0.30889964,\n",
       "        0.93555716, 0.01761683, 0.6292771 , 0.25001237, 0.5494918 ,\n",
       "        0.48024354, 0.        ],\n",
       "       [0.        , 0.34301483, 0.42206955, 0.71720039, 0.76362902,\n",
       "        0.58305874, 0.63853484, 0.12841163, 0.28363422, 0.35932976,\n",
       "        0.11587057, 0.        ],\n",
       "       [0.        , 0.23358558, 0.82251216, 0.42189914, 0.3471397 ,\n",
       "        0.32910446, 0.48695338, 0.25657316, 0.43617422, 0.30244381,\n",
       "        0.61356113, 0.        ],\n",
       "       [0.        , 0.90311987, 0.88398889, 0.69478312, 0.98246753,\n",
       "        0.07406888, 0.80466079, 0.55207518, 0.14619415, 0.11983822,\n",
       "        0.79012195, 0.        ],\n",
       "       [0.        , 0.87725737, 0.57820418, 0.24580576, 0.97520048,\n",
       "        0.78665542, 0.18955706, 0.60869784, 0.40402203, 0.09546527,\n",
       "        0.42996557, 0.        ],\n",
       "       [0.        , 0.71292672, 0.52658222, 0.20310325, 0.62789611,\n",
       "        0.89584172, 0.42010056, 0.91534717, 0.5829308 , 0.71921242,\n",
       "        0.5513248 , 0.        ],\n",
       "       [0.        , 0.03501703, 0.52337777, 0.09208968, 0.03336782,\n",
       "        0.78887743, 0.634787  , 0.74968803, 0.55500671, 0.84207129,\n",
       "        0.79373099, 0.        ],\n",
       "       [0.        , 0.3911379 , 0.13341852, 0.82389324, 0.3070833 ,\n",
       "        0.21569518, 0.16850675, 0.27072358, 0.35965021, 0.38793231,\n",
       "        0.91767425, 0.        ],\n",
       "       [0.        , 0.27950506, 0.67341343, 0.52528755, 0.56377823,\n",
       "        0.15806179, 0.64175812, 0.22607266, 0.3696016 , 0.1889711 ,\n",
       "        0.68505392, 0.        ],\n",
       "       [0.        , 0.51675147, 0.5598725 , 0.91100084, 0.81157756,\n",
       "        0.17878341, 0.45296349, 0.07727917, 0.95261025, 0.60193871,\n",
       "        0.17879432, 0.        ],\n",
       "       [0.        , 0.        , 0.        , 0.        , 0.        ,\n",
       "        0.        , 0.        , 0.        , 0.        , 0.        ,\n",
       "        0.        , 0.        ]])"
      ]
     },
     "execution_count": 18,
     "metadata": {},
     "output_type": "execute_result"
    }
   ],
   "source": [
    "# This is not correct\n",
    "change_Arr = np.pad(arr_1,pad_width=1,mode=\"constant\",constant_values=0)\n",
    "change_Arr"
   ]
  },
  {
   "cell_type": "markdown",
   "metadata": {},
   "source": [
    "17. What is the result of the following expression? (★☆☆)"
   ]
  },
  {
   "cell_type": "code",
   "execution_count": 19,
   "metadata": {},
   "outputs": [
    {
     "data": {
      "text/plain": [
       "False"
      ]
     },
     "execution_count": 19,
     "metadata": {},
     "output_type": "execute_result"
    }
   ],
   "source": [
    "0 * np.nan\n",
    "np.nan == np.nan\n",
    "np.inf > np.nan\n",
    "np.nan - np.nan\n",
    "np.nan in set([np.nan])\n",
    "0.3 == 3 * 0.1"
   ]
  },
  {
   "cell_type": "markdown",
   "metadata": {},
   "source": [
    "18. Create a 5x5 matrix with values 1,2,3,4 just below the diagonal (★☆☆)"
   ]
  },
  {
   "cell_type": "code",
   "execution_count": 21,
   "metadata": {},
   "outputs": [
    {
     "data": {
      "text/plain": [
       "array([[0, 1, 0, 1, 0, 1, 0, 1],\n",
       "       [1, 0, 1, 0, 1, 0, 1, 0],\n",
       "       [0, 1, 0, 1, 0, 1, 0, 1],\n",
       "       [1, 0, 1, 0, 1, 0, 1, 0],\n",
       "       [0, 1, 0, 1, 0, 1, 0, 1],\n",
       "       [1, 0, 1, 0, 1, 0, 1, 0],\n",
       "       [0, 1, 0, 1, 0, 1, 0, 1],\n",
       "       [1, 0, 1, 0, 1, 0, 1, 0]])"
      ]
     },
     "execution_count": 21,
     "metadata": {},
     "output_type": "execute_result"
    }
   ],
   "source": [
    "checker_board = np.zeros((8,8),dtype=\"int\")\n",
    "checker_board[1::2,::2] = 1\n",
    "checker_board[::2,1::2] = 1\n",
    "checker_board"
   ]
  },
  {
   "cell_type": "markdown",
   "metadata": {},
   "source": [
    "20. Consider a (6,7,8) shape array, what is the index (x,y,z) of the 100th element?"
   ]
  },
  {
   "cell_type": "code",
   "execution_count": 22,
   "metadata": {},
   "outputs": [
    {
     "data": {
      "text/plain": [
       "(1, 5, 4)"
      ]
     },
     "execution_count": 22,
     "metadata": {},
     "output_type": "execute_result"
    }
   ],
   "source": [
    "np.unravel_index(100, (6,7,8))"
   ]
  },
  {
   "cell_type": "markdown",
   "metadata": {},
   "source": [
    "21. Create a checkerboard 8x8 matrix using the tile function (★☆☆)"
   ]
  },
  {
   "cell_type": "code",
   "execution_count": 23,
   "metadata": {},
   "outputs": [
    {
     "data": {
      "text/plain": [
       "array([[0, 1, 0, 1, 0, 1, 0, 1],\n",
       "       [0, 1, 0, 1, 0, 1, 0, 1],\n",
       "       [0, 1, 0, 1, 0, 1, 0, 1],\n",
       "       [0, 1, 0, 1, 0, 1, 0, 1],\n",
       "       [0, 1, 0, 1, 0, 1, 0, 1],\n",
       "       [0, 1, 0, 1, 0, 1, 0, 1],\n",
       "       [0, 1, 0, 1, 0, 1, 0, 1],\n",
       "       [0, 1, 0, 1, 0, 1, 0, 1]])"
      ]
     },
     "execution_count": 23,
     "metadata": {},
     "output_type": "execute_result"
    }
   ],
   "source": [
    "a = np.array([0,1])\n",
    "np.tile(a, (8,4))"
   ]
  },
  {
   "cell_type": "markdown",
   "metadata": {},
   "source": [
    "22. Normalize a 5x5 random matrix (★☆☆)"
   ]
  },
  {
   "cell_type": "code",
   "execution_count": 24,
   "metadata": {},
   "outputs": [
    {
     "data": {
      "text/plain": [
       "array([[0.70615448, 0.32591315, 0.43393898, 0.        , 0.61454828],\n",
       "       [0.19161461, 0.11522625, 0.07333447, 0.50996925, 0.04508478],\n",
       "       [0.56453047, 0.25084102, 0.6476774 , 0.70985181, 0.39709704],\n",
       "       [0.38768236, 0.94624875, 0.57001022, 0.44602358, 0.46247748],\n",
       "       [1.        , 0.78613897, 0.01729577, 0.09587528, 0.5648891 ]])"
      ]
     },
     "execution_count": 24,
     "metadata": {},
     "output_type": "execute_result"
    }
   ],
   "source": [
    "array_arr = np.random.rand(5,5)\n",
    "maxi,mini = array_arr.max(),array_arr.min()\n",
    "array_arr = (array_arr - mini)/(maxi - mini)\n",
    "array_arr"
   ]
  },
  {
   "cell_type": "markdown",
   "metadata": {},
   "source": [
    "23. Create a custom dtype that describes a color as four unsigned bytes (RGBA) (★☆☆)"
   ]
  },
  {
   "cell_type": "code",
   "execution_count": 25,
   "metadata": {},
   "outputs": [
    {
     "name": "stdout",
     "output_type": "stream",
     "text": [
      "1 4 3\n"
     ]
    },
    {
     "data": {
      "text/plain": [
       "numpy.ndarray"
      ]
     },
     "execution_count": 25,
     "metadata": {},
     "output_type": "execute_result"
    }
   ],
   "source": [
    "RGBA = np.dtype([(\"Red\",np.uint8),(\"Blue\",np.uint8),(\"Green\",np.uint8),(\"Yellow\",np.uint8)])\n",
    "color = np.array((1,2,3,4),dtype=RGBA)\n",
    "print(color['Red'],color['Yellow'],color['Green'])\n",
    "type(color)"
   ]
  },
  {
   "cell_type": "markdown",
   "metadata": {},
   "source": [
    "24. Multiply a 5x3 matrix by a 3x2 matrix (real matrix product) (★☆☆)"
   ]
  },
  {
   "cell_type": "code",
   "execution_count": 26,
   "metadata": {},
   "outputs": [
    {
     "name": "stdout",
     "output_type": "stream",
     "text": [
      "[[0.78484838 1.53933726]\n",
      " [0.17340848 0.71947935]\n",
      " [0.89986753 1.19953026]\n",
      " [0.5922717  1.27842506]\n",
      " [0.42945943 0.55613904]]\n"
     ]
    },
    {
     "data": {
      "text/plain": [
       "array([[0.78484838, 1.53933726],\n",
       "       [0.17340848, 0.71947935],\n",
       "       [0.89986753, 1.19953026],\n",
       "       [0.5922717 , 1.27842506],\n",
       "       [0.42945943, 0.55613904]])"
      ]
     },
     "execution_count": 26,
     "metadata": {},
     "output_type": "execute_result"
    }
   ],
   "source": [
    "arr1 = np.random.random((5,3))\n",
    "arr2 = np.random.random((3,2))\n",
    "print(arr1 @ arr2)\n",
    "#     OR\n",
    "np.dot(arr1,arr2)"
   ]
  },
  {
   "cell_type": "markdown",
   "metadata": {},
   "source": [
    "25. Given a 1D array, negate all elements which are between 3 and 8, in place. (★☆☆)"
   ]
  },
  {
   "cell_type": "code",
   "execution_count": 2,
   "metadata": {},
   "outputs": [
    {
     "name": "stdout",
     "output_type": "stream",
     "text": [
      "Original array: [1, 2, 3, 4, 5, 6, 7, 8, 9, 10]\n",
      "Modified array: [1, 2, -3, -4, -5, -6, -7, -8, 9, 10]\n"
     ]
    }
   ],
   "source": [
    "def negate_elements(arr):\n",
    "    for i in range(len(arr)):\n",
    "        if  3 <= arr[i] <=  8:\n",
    "            arr[i] *= -1\n",
    "    return arr\n",
    "\n",
    "# Example usage:\n",
    "arr = [1,  2,  3,  4,  5,  6,  7,  8,  9,  10]\n",
    "print(\"Original array:\", arr)\n",
    "\n",
    "negate_elements(arr)\n",
    "print(\"Modified array:\", arr)\n"
   ]
  },
  {
   "cell_type": "markdown",
   "metadata": {},
   "source": [
    "26. What is the output of the following script? (★☆☆)"
   ]
  },
  {
   "cell_type": "code",
   "execution_count": 27,
   "metadata": {},
   "outputs": [
    {
     "name": "stdout",
     "output_type": "stream",
     "text": [
      "9\n",
      "10\n"
     ]
    }
   ],
   "source": [
    "print(sum(range(5),-1))\n",
    "from numpy import *\n",
    "print(sum(range(5),-1))"
   ]
  },
  {
   "cell_type": "markdown",
   "metadata": {},
   "source": [
    "27. Consider an integer vector Z, which of these expressions are legal? (★☆☆)\n",
    "Z**Z\n",
    "2 << Z >> 2\n",
    "Z <- Z\n",
    "1j*Z\n",
    "Z/1/1\n",
    "Z<Z>Z"
   ]
  },
  {
   "cell_type": "code",
   "execution_count": 28,
   "metadata": {},
   "outputs": [
    {
     "data": {
      "text/plain": [
       "array([ 0.,  1.,  2.,  3.,  4.,  5.,  6.,  7.,  8.,  9., 10., 11., 12.,\n",
       "       13., 14., 15.])"
      ]
     },
     "execution_count": 28,
     "metadata": {},
     "output_type": "execute_result"
    }
   ],
   "source": [
    "Z = np.arange(16)\n",
    "Z**Z\n",
    "2 << Z >> 2\n",
    "Z <- Z\n",
    "1j*Z\n",
    "Z/1/1\n",
    "# Z<Z>Z -> This is not legal expression"
   ]
  },
  {
   "cell_type": "markdown",
   "metadata": {},
   "source": [
    "Z = np.arange(16)"
   ]
  },
  {
   "cell_type": "code",
   "execution_count": 29,
   "metadata": {},
   "outputs": [
    {
     "name": "stderr",
     "output_type": "stream",
     "text": [
      "/tmp/ipykernel_27018/699728972.py:1: RuntimeWarning: invalid value encountered in cast\n",
      "  np.array([np.nan]).astype(int).astype(float)\n"
     ]
    },
    {
     "data": {
      "text/plain": [
       "array([-9.22337204e+18])"
      ]
     },
     "execution_count": 29,
     "metadata": {},
     "output_type": "execute_result"
    }
   ],
   "source": [
    "np.array([np.nan]).astype(int).astype(float)"
   ]
  },
  {
   "cell_type": "markdown",
   "metadata": {},
   "source": [
    "29. How to round away from zero a float array ? (★☆☆)"
   ]
  },
  {
   "cell_type": "code",
   "execution_count": 30,
   "metadata": {},
   "outputs": [
    {
     "name": "stdout",
     "output_type": "stream",
     "text": [
      "Before rounding:  [[0.45567604 0.82140474]\n",
      " [0.61569961 0.01409384]]\n"
     ]
    },
    {
     "data": {
      "text/plain": [
       "array([[0.46, 0.82],\n",
       "       [0.62, 0.01]])"
      ]
     },
     "execution_count": 30,
     "metadata": {},
     "output_type": "execute_result"
    }
   ],
   "source": [
    "arr = np.random.random((2,2))\n",
    "print('Before rounding: ',arr)\n",
    "arr1 = np.round(arr,2)\n",
    "arr1"
   ]
  },
  {
   "cell_type": "markdown",
   "metadata": {},
   "source": [
    "30. How to find common values between two arrays? (★☆☆)"
   ]
  },
  {
   "cell_type": "code",
   "execution_count": 31,
   "metadata": {},
   "outputs": [
    {
     "name": "stdout",
     "output_type": "stream",
     "text": [
      "[2 3 4]\n",
      "[4 3 1]\n",
      "Common values:  [3 4]\n"
     ]
    }
   ],
   "source": [
    "arr1 = np.array([2,3,4])\n",
    "arr2 = np.array([4,3,1])\n",
    "print(arr1)\n",
    "print(arr2)\n",
    "print(\"Common values: \", np.intersect1d(arr1,arr2))"
   ]
  },
  {
   "cell_type": "markdown",
   "metadata": {},
   "source": [
    "31. How to ignore all numpy warnings (not recommended)? (★☆☆)"
   ]
  },
  {
   "cell_type": "markdown",
   "metadata": {},
   "source": [
    "32. Is the following expressions true? (★☆☆)"
   ]
  },
  {
   "cell_type": "code",
   "execution_count": 32,
   "metadata": {},
   "outputs": [
    {
     "name": "stderr",
     "output_type": "stream",
     "text": [
      "/tmp/ipykernel_27018/244602691.py:1: RuntimeWarning: invalid value encountered in sqrt\n",
      "  np.sqrt(-1) == np.emath.sqrt(-1)\n"
     ]
    },
    {
     "data": {
      "text/plain": [
       "False"
      ]
     },
     "execution_count": 32,
     "metadata": {},
     "output_type": "execute_result"
    }
   ],
   "source": [
    "np.sqrt(-1) == np.emath.sqrt(-1)"
   ]
  },
  {
   "cell_type": "markdown",
   "metadata": {},
   "source": [
    "33. How to get the dates of yesterday, today and tomorrow? (★☆☆)"
   ]
  },
  {
   "cell_type": "code",
   "execution_count": 1,
   "metadata": {},
   "outputs": [
    {
     "name": "stdout",
     "output_type": "stream",
     "text": [
      "Yesterday: 2024-02-21\n",
      "Today: 2024-02-22\n",
      "Tomorrow: 2024-02-23\n"
     ]
    }
   ],
   "source": [
    "from datetime import datetime, timedelta\n",
    "\n",
    "# Get today's date\n",
    "today = datetime.today().date()\n",
    "\n",
    "# Get yesterday's date\n",
    "yesterday = today - timedelta(days=1)\n",
    "\n",
    "# Get tomorrow's date\n",
    "tomorrow = today + timedelta(days=1)\n",
    "\n",
    "print(\"Yesterday:\", yesterday)\n",
    "print(\"Today:\", today)\n",
    "print(\"Tomorrow:\", tomorrow)"
   ]
  },
  {
   "cell_type": "markdown",
   "metadata": {},
   "source": [
    "34. How to get all the dates corresponding to the month of July 2016? (★★☆)"
   ]
  },
  {
   "cell_type": "code",
   "execution_count": 3,
   "metadata": {},
   "outputs": [
    {
     "name": "stdout",
     "output_type": "stream",
     "text": [
      "Dates corresponding to July 2016:\n",
      "['2016-07-01', '2016-07-02', '2016-07-03', '2016-07-04', '2016-07-05', '2016-07-06', '2016-07-07', '2016-07-08', '2016-07-09', '2016-07-10', '2016-07-11', '2016-07-12', '2016-07-13', '2016-07-14', '2016-07-15', '2016-07-16', '2016-07-17', '2016-07-18', '2016-07-19', '2016-07-20', '2016-07-21', '2016-07-22', '2016-07-23', '2016-07-24', '2016-07-25', '2016-07-26', '2016-07-27', '2016-07-28', '2016-07-29', '2016-07-30', '2016-07-31']\n"
     ]
    }
   ],
   "source": [
    "import calendar\n",
    "\n",
    "# Define the month and year\n",
    "month = 7  # July\n",
    "year = 2016\n",
    "\n",
    "# Get the number of days in the specified month\n",
    "num_days = calendar.monthrange(year, month)[1]\n",
    "\n",
    "# Generate all the dates for the month of July 2016\n",
    "dates_july_2016 = [f\"{year}-{month:02d}-{day:02d}\" for day in range(1, num_days + 1)]\n",
    "\n",
    "print(\"Dates corresponding to July 2016:\")\n",
    "print(dates_july_2016)"
   ]
  },
  {
   "cell_type": "markdown",
   "metadata": {},
   "source": [
    "35. How to compute ((A+B)*(-A/2)) in place (without copy)? (★★☆)"
   ]
  },
  {
   "cell_type": "code",
   "execution_count": 3,
   "metadata": {},
   "outputs": [
    {
     "name": "stdout",
     "output_type": "stream",
     "text": [
      "Original values: A = 5 , B = 3\n",
      "Modified values: A = -4.0 , B = 16.0\n"
     ]
    }
   ],
   "source": [
    "def compute_in_place(A, B):\n",
    "    # Compute A+B\n",
    "    A += B\n",
    "    # Compute -A/2\n",
    "    A = -A /  2\n",
    "    # Compute (A+B)*(-A/2)\n",
    "    B = A * A\n",
    "    return A, B\n",
    "\n",
    "# Example usage:\n",
    "A =  5\n",
    "B =  3\n",
    "print(\"Original values: A =\", A, \", B =\", B)\n",
    "\n",
    "A, B = compute_in_place(A, B)\n",
    "print(\"Modified values: A =\", A, \", B =\", B)\n"
   ]
  },
  {
   "cell_type": "markdown",
   "metadata": {},
   "source": [
    "36. Extract the integer part of a random array of positive numbers using 4 different methods (★★☆)"
   ]
  },
  {
   "cell_type": "code",
   "execution_count": 6,
   "metadata": {},
   "outputs": [
    {
     "name": "stdout",
     "output_type": "stream",
     "text": [
      "Using np.floor(): [4. 4. 4. 8. 1.]\n",
      "Using np.trunc(): [4. 4. 4. 8. 1.]\n",
      "Using astype(int): [4 4 4 8 1]\n",
      "Using modulus operator: [4. 4. 4. 8. 1.]\n"
     ]
    }
   ],
   "source": [
    "\n",
    "# Generate a random array of positive numbers\n",
    "random_array = np.random.rand(5) * 10  # Example array of length 5 with values between 0 and 10\n",
    "\n",
    "# Method 1: Using np.floor()\n",
    "integer_part_floor = np.floor(random_array)\n",
    "\n",
    "# Method 2: Using np.trunc()\n",
    "integer_part_trunc = np.trunc(random_array)\n",
    "\n",
    "# Method 3: Using astype(int)\n",
    "integer_part_astype = random_array.astype(int)\n",
    "\n",
    "# Method 4: Using modulus operator\n",
    "integer_part_modulus = random_array - random_array % 1\n",
    "\n",
    "# Print the results\n",
    "print(\"Using np.floor():\", integer_part_floor)\n",
    "print(\"Using np.trunc():\", integer_part_trunc)\n",
    "print(\"Using astype(int):\", integer_part_astype)\n",
    "print(\"Using modulus operator:\", integer_part_modulus)"
   ]
  },
  {
   "cell_type": "markdown",
   "metadata": {},
   "source": [
    "37. Create a 5x5 matrix with row values ranging from 0 to 4 (★★☆)"
   ]
  },
  {
   "cell_type": "code",
   "execution_count": 7,
   "metadata": {},
   "outputs": [
    {
     "name": "stdout",
     "output_type": "stream",
     "text": [
      "[[0 1 2 3 4]\n",
      " [0 1 2 3 4]\n",
      " [0 1 2 3 4]\n",
      " [0 1 2 3 4]\n",
      " [0 1 2 3 4]]\n"
     ]
    }
   ],
   "source": [
    "# Create an array with values ranging from 0 to 4\n",
    "row_values = np.arange(5)\n",
    "\n",
    "# Use np.tile() to create the 5x5 matrix\n",
    "matrix = np.tile(row_values, (5, 1))\n",
    "\n",
    "print(matrix)"
   ]
  },
  {
   "cell_type": "markdown",
   "metadata": {},
   "source": [
    "38. Consider a generator function that generates 10 integers and use it to build an array (★☆☆)"
   ]
  },
  {
   "cell_type": "code",
   "execution_count": 8,
   "metadata": {},
   "outputs": [
    {
     "name": "stdout",
     "output_type": "stream",
     "text": [
      "[0 1 2 3 4 5 6 7 8 9]\n"
     ]
    }
   ],
   "source": [
    "# Define the generator function to generate 10 integers\n",
    "def integer_generator():\n",
    "    for i in range(10):\n",
    "        yield i\n",
    "\n",
    "# Use the generator function to create the array\n",
    "arr = np.fromiter(integer_generator(), dtype=int)\n",
    "\n",
    "print(arr)"
   ]
  },
  {
   "cell_type": "markdown",
   "metadata": {},
   "source": [
    "39. Create a vector of size 10 with values ranging from 0 to 1, both excluded (★★☆)"
   ]
  },
  {
   "cell_type": "code",
   "execution_count": 9,
   "metadata": {},
   "outputs": [
    {
     "name": "stdout",
     "output_type": "stream",
     "text": [
      "[0.08333333 0.16666667 0.25       0.33333333 0.41666667 0.5\n",
      " 0.58333333 0.66666667 0.75       0.83333333 0.91666667]\n"
     ]
    }
   ],
   "source": [
    "# Create a vector of size 10 with values ranging from 0 to 1 (both excluded)\n",
    "vector = np.linspace(0, 1, 12, endpoint=False)[1:]\n",
    "\n",
    "print(vector)"
   ]
  },
  {
   "cell_type": "markdown",
   "metadata": {},
   "source": [
    "40. Create a random vector of size 10 and sort it (★★☆)"
   ]
  },
  {
   "cell_type": "code",
   "execution_count": 10,
   "metadata": {},
   "outputs": [
    {
     "name": "stdout",
     "output_type": "stream",
     "text": [
      "[2.73392470e-04 4.44103688e-02 5.63770764e-01 5.71853385e-01\n",
      " 6.01706908e-01 7.90184574e-01 8.00543462e-01 9.10881124e-01\n",
      " 9.51097236e-01 9.94960923e-01]\n"
     ]
    }
   ],
   "source": [
    "# Create a random vector of size 10\n",
    "random_vector = np.random.rand(10)\n",
    "\n",
    "# Sort the random vector\n",
    "sorted_vector = np.sort(random_vector)\n",
    "\n",
    "print(sorted_vector)"
   ]
  },
  {
   "cell_type": "markdown",
   "metadata": {},
   "source": [
    "41. How to sum a small array faster than np.sum? (★★☆)"
   ]
  },
  {
   "cell_type": "code",
   "execution_count": 11,
   "metadata": {},
   "outputs": [
    {
     "name": "stdout",
     "output_type": "stream",
     "text": [
      "15\n"
     ]
    }
   ],
   "source": [
    "# Small array\n",
    "small_array = np.array([1, 2, 3, 4, 5])\n",
    "\n",
    "# Sum using Python's built-in sum() function\n",
    "sum_result = sum(small_array)\n",
    "\n",
    "print(sum_result)"
   ]
  },
  {
   "cell_type": "markdown",
   "metadata": {},
   "source": [
    "42. Consider two random array A and B, check if they are equal (★★☆)"
   ]
  },
  {
   "cell_type": "code",
   "execution_count": 12,
   "metadata": {},
   "outputs": [
    {
     "name": "stdout",
     "output_type": "stream",
     "text": [
      "False\n"
     ]
    }
   ],
   "source": [
    "# Generate two random arrays A and B\n",
    "A = np.random.randint(0, 10, size=(3, 3))\n",
    "B = np.random.randint(0, 10, size=(3, 3))\n",
    "\n",
    "# Check if the arrays are equal\n",
    "equal_arrays = np.array_equal(A, B)\n",
    "\n",
    "print(equal_arrays)"
   ]
  },
  {
   "cell_type": "markdown",
   "metadata": {},
   "source": [
    "43. Make an array immutable (read-only) (★★☆)"
   ]
  },
  {
   "cell_type": "code",
   "execution_count": 13,
   "metadata": {},
   "outputs": [
    {
     "name": "stdout",
     "output_type": "stream",
     "text": [
      "[1 2 3 4 5]\n"
     ]
    }
   ],
   "source": [
    "# Create a NumPy array\n",
    "arr = np.array([1, 2, 3, 4, 5])\n",
    "\n",
    "# Make the array immutable\n",
    "arr.flags.writeable = False\n",
    "\n",
    "# Try to modify the array (will raise an error)\n",
    "# arr[0] = 10  # Uncommenting this line will result in an error\n",
    "\n",
    "print(arr)"
   ]
  },
  {
   "cell_type": "markdown",
   "metadata": {},
   "source": [
    "44. Consider a random 10x2 matrix representing cartesian coordinates, convert them to polar coordinates (★★☆)"
   ]
  },
  {
   "cell_type": "code",
   "execution_count": 14,
   "metadata": {},
   "outputs": [
    {
     "name": "stdout",
     "output_type": "stream",
     "text": [
      "Polar Coordinates:\n",
      "Point 1: (r=0.3730063785095398, theta=32.13382422118484) degrees\n",
      "Point 2: (r=0.9682407985562836, theta=27.537343788612564) degrees\n",
      "Point 3: (r=0.8597105061660639, theta=17.114672361983743) degrees\n",
      "Point 4: (r=0.5092620559594707, theta=36.79411183569767) degrees\n",
      "Point 5: (r=0.37480399504742873, theta=14.442310731345978) degrees\n",
      "Point 6: (r=0.6814731352139524, theta=67.84067157831959) degrees\n",
      "Point 7: (r=1.0225019576861272, theta=47.872966318149594) degrees\n",
      "Point 8: (r=0.47261186898590407, theta=26.58886051734918) degrees\n",
      "Point 9: (r=0.32791753181928385, theta=13.760050207339155) degrees\n",
      "Point 10: (r=1.2614137420202076, theta=49.29574129694153) degrees\n"
     ]
    }
   ],
   "source": [
    "# Create a random 10x2 matrix representing Cartesian coordinates\n",
    "cartesian_coords = np.random.rand(10, 2)\n",
    "\n",
    "# Extract x and y coordinates\n",
    "x = cartesian_coords[:, 0]\n",
    "y = cartesian_coords[:, 1]\n",
    "\n",
    "# Convert to polar coordinates\n",
    "r = np.hypot(x, y)  # Calculate radius\n",
    "theta = np.arctan2(y, x)  # Calculate angle in radians\n",
    "\n",
    "# Print polar coordinates\n",
    "print(\"Polar Coordinates:\")\n",
    "for i in range(10):\n",
    "    print(f\"Point {i+1}: (r={r[i]}, theta={np.degrees(theta[i])}) degrees\")"
   ]
  },
  {
   "cell_type": "markdown",
   "metadata": {},
   "source": [
    "45. Create random vector of size 10 and replace the maximum value by 0 (★★☆)"
   ]
  },
  {
   "cell_type": "code",
   "execution_count": 15,
   "metadata": {},
   "outputs": [
    {
     "name": "stdout",
     "output_type": "stream",
     "text": [
      "Random vector with the maximum value replaced by 0:\n",
      "[0.         0.88002173 0.33193613 0.31310866 0.02014215 0.32480657\n",
      " 0.37235511 0.4246427  0.62356781 0.75455949]\n"
     ]
    }
   ],
   "source": [
    "# Step 1: Generate a random vector of size 10\n",
    "random_vector = np.random.rand(10)\n",
    "\n",
    "# Step 2: Find the maximum value in the vector\n",
    "max_value = np.max(random_vector)\n",
    "\n",
    "# Step 3: Replace the maximum value with 0\n",
    "random_vector[random_vector == max_value] = 0\n",
    "\n",
    "# Print the random vector after replacing the maximum value\n",
    "print(\"Random vector with the maximum value replaced by 0:\")\n",
    "print(random_vector)"
   ]
  },
  {
   "cell_type": "markdown",
   "metadata": {},
   "source": [
    "46. Create a structured array with x and y coordinates covering the [0,1]x[0,1] area (★★☆)"
   ]
  },
  {
   "cell_type": "code",
   "execution_count": 16,
   "metadata": {},
   "outputs": [
    {
     "name": "stdout",
     "output_type": "stream",
     "text": [
      "Structured array with x and y coordinates covering [0,1]x[0,1]:\n",
      "[[(0.        , 0.        ) (0.11111111, 0.        )\n",
      "  (0.22222222, 0.        ) (0.33333333, 0.        )\n",
      "  (0.44444444, 0.        ) (0.55555556, 0.        )\n",
      "  (0.66666667, 0.        ) (0.77777778, 0.        )\n",
      "  (0.88888889, 0.        ) (1.        , 0.        )]\n",
      " [(0.        , 0.11111111) (0.11111111, 0.11111111)\n",
      "  (0.22222222, 0.11111111) (0.33333333, 0.11111111)\n",
      "  (0.44444444, 0.11111111) (0.55555556, 0.11111111)\n",
      "  (0.66666667, 0.11111111) (0.77777778, 0.11111111)\n",
      "  (0.88888889, 0.11111111) (1.        , 0.11111111)]\n",
      " [(0.        , 0.22222222) (0.11111111, 0.22222222)\n",
      "  (0.22222222, 0.22222222) (0.33333333, 0.22222222)\n",
      "  (0.44444444, 0.22222222) (0.55555556, 0.22222222)\n",
      "  (0.66666667, 0.22222222) (0.77777778, 0.22222222)\n",
      "  (0.88888889, 0.22222222) (1.        , 0.22222222)]\n",
      " [(0.        , 0.33333333) (0.11111111, 0.33333333)\n",
      "  (0.22222222, 0.33333333) (0.33333333, 0.33333333)\n",
      "  (0.44444444, 0.33333333) (0.55555556, 0.33333333)\n",
      "  (0.66666667, 0.33333333) (0.77777778, 0.33333333)\n",
      "  (0.88888889, 0.33333333) (1.        , 0.33333333)]\n",
      " [(0.        , 0.44444444) (0.11111111, 0.44444444)\n",
      "  (0.22222222, 0.44444444) (0.33333333, 0.44444444)\n",
      "  (0.44444444, 0.44444444) (0.55555556, 0.44444444)\n",
      "  (0.66666667, 0.44444444) (0.77777778, 0.44444444)\n",
      "  (0.88888889, 0.44444444) (1.        , 0.44444444)]\n",
      " [(0.        , 0.55555556) (0.11111111, 0.55555556)\n",
      "  (0.22222222, 0.55555556) (0.33333333, 0.55555556)\n",
      "  (0.44444444, 0.55555556) (0.55555556, 0.55555556)\n",
      "  (0.66666667, 0.55555556) (0.77777778, 0.55555556)\n",
      "  (0.88888889, 0.55555556) (1.        , 0.55555556)]\n",
      " [(0.        , 0.66666667) (0.11111111, 0.66666667)\n",
      "  (0.22222222, 0.66666667) (0.33333333, 0.66666667)\n",
      "  (0.44444444, 0.66666667) (0.55555556, 0.66666667)\n",
      "  (0.66666667, 0.66666667) (0.77777778, 0.66666667)\n",
      "  (0.88888889, 0.66666667) (1.        , 0.66666667)]\n",
      " [(0.        , 0.77777778) (0.11111111, 0.77777778)\n",
      "  (0.22222222, 0.77777778) (0.33333333, 0.77777778)\n",
      "  (0.44444444, 0.77777778) (0.55555556, 0.77777778)\n",
      "  (0.66666667, 0.77777778) (0.77777778, 0.77777778)\n",
      "  (0.88888889, 0.77777778) (1.        , 0.77777778)]\n",
      " [(0.        , 0.88888889) (0.11111111, 0.88888889)\n",
      "  (0.22222222, 0.88888889) (0.33333333, 0.88888889)\n",
      "  (0.44444444, 0.88888889) (0.55555556, 0.88888889)\n",
      "  (0.66666667, 0.88888889) (0.77777778, 0.88888889)\n",
      "  (0.88888889, 0.88888889) (1.        , 0.88888889)]\n",
      " [(0.        , 1.        ) (0.11111111, 1.        )\n",
      "  (0.22222222, 1.        ) (0.33333333, 1.        )\n",
      "  (0.44444444, 1.        ) (0.55555556, 1.        )\n",
      "  (0.66666667, 1.        ) (0.77777778, 1.        )\n",
      "  (0.88888889, 1.        ) (1.        , 1.        )]]\n"
     ]
    }
   ],
   "source": [
    "# Step 1: Define the data type for the structured array\n",
    "dtype = [('x', float), ('y', float)]\n",
    "\n",
    "# Step 2: Generate x and y coordinates covering the [0,1]x[0,1] area\n",
    "x_coords = np.linspace(0, 1, num=10)  # 10 points along the x-axis\n",
    "y_coords = np.linspace(0, 1, num=10)  # 10 points along the y-axis\n",
    "\n",
    "# Step 3: Create the structured array\n",
    "structured_array = np.zeros((10, 10), dtype=dtype)\n",
    "structured_array['x'], structured_array['y'] = np.meshgrid(x_coords, y_coords)\n",
    "\n",
    "# Print the structured array\n",
    "print(\"Structured array with x and y coordinates covering [0,1]x[0,1]:\")\n",
    "print(structured_array)"
   ]
  },
  {
   "cell_type": "markdown",
   "metadata": {},
   "source": [
    "47. Given two arrays, X and Y, construct the Cauchy matrix C (Cij =1/(xi - yj)) (★★☆)"
   ]
  },
  {
   "cell_type": "code",
   "execution_count": 17,
   "metadata": {},
   "outputs": [
    {
     "name": "stdout",
     "output_type": "stream",
     "text": [
      "Cauchy matrix C:\n",
      "[[-0.33333333 -0.25       -0.2       ]\n",
      " [-0.5        -0.33333333 -0.25      ]\n",
      " [-1.         -0.5        -0.33333333]]\n"
     ]
    }
   ],
   "source": [
    "# Example arrays X and Y\n",
    "X = np.array([1, 2, 3])\n",
    "Y = np.array([4, 5, 6])\n",
    "\n",
    "# Construct Cauchy matrix C\n",
    "C = 1 / (X[:, np.newaxis] - Y)\n",
    "\n",
    "# Print the Cauchy matrix\n",
    "print(\"Cauchy matrix C:\")\n",
    "print(C)"
   ]
  },
  {
   "cell_type": "markdown",
   "metadata": {},
   "source": [
    "48. Print the minimum and maximum representable value for each numpy scalar type (★★☆)"
   ]
  },
  {
   "cell_type": "code",
   "execution_count": 18,
   "metadata": {},
   "outputs": [
    {
     "name": "stdout",
     "output_type": "stream",
     "text": [
      "Minimum value for <class 'numpy.int8'>: -128\n",
      "Maximum value for <class 'numpy.int8'>: 127\n",
      "Minimum value for <class 'numpy.int16'>: -32768\n",
      "Maximum value for <class 'numpy.int16'>: 32767\n",
      "Minimum value for <class 'numpy.int32'>: -2147483648\n",
      "Maximum value for <class 'numpy.int32'>: 2147483647\n",
      "Minimum value for <class 'numpy.int64'>: -9223372036854775808\n",
      "Maximum value for <class 'numpy.int64'>: 9223372036854775807\n",
      "Minimum value for <class 'numpy.float16'>: -65504.0\n",
      "Maximum value for <class 'numpy.float16'>: 65504.0\n",
      "Minimum value for <class 'numpy.float32'>: -3.4028234663852886e+38\n",
      "Maximum value for <class 'numpy.float32'>: 3.4028234663852886e+38\n",
      "Minimum value for <class 'numpy.float64'>: -1.7976931348623157e+308\n",
      "Maximum value for <class 'numpy.float64'>: 1.7976931348623157e+308\n"
     ]
    }
   ],
   "source": [
    "# Integer types\n",
    "for dtype in [np.int8, np.int16, np.int32, np.int64]:\n",
    "    info = np.iinfo(dtype)\n",
    "    print(f\"Minimum value for {dtype}: {info.min}\")\n",
    "    print(f\"Maximum value for {dtype}: {info.max}\")\n",
    "\n",
    "# Floating-point types\n",
    "for dtype in [np.float16, np.float32, np.float64]:\n",
    "    info = np.finfo(dtype)\n",
    "    print(f\"Minimum value for {dtype}: {info.min}\")\n",
    "    print(f\"Maximum value for {dtype}: {info.max}\")"
   ]
  },
  {
   "cell_type": "markdown",
   "metadata": {},
   "source": [
    "49. How to print all the values of an array? (★★☆)"
   ]
  },
  {
   "cell_type": "code",
   "execution_count": 4,
   "metadata": {},
   "outputs": [
    {
     "name": "stdout",
     "output_type": "stream",
     "text": [
      "1\n",
      "2\n",
      "3\n",
      "4\n",
      "5\n"
     ]
    }
   ],
   "source": [
    "# Example array\n",
    "arr = [1,  2,  3,  4,  5]\n",
    "\n",
    "# Print all values of the array\n",
    "for value in arr:\n",
    "    print(value)\n"
   ]
  },
  {
   "cell_type": "markdown",
   "metadata": {},
   "source": [
    "50. How to find the closest value (to a given scalar) in a vector? (★★☆)"
   ]
  },
  {
   "cell_type": "code",
   "execution_count": 20,
   "metadata": {},
   "outputs": [
    {
     "name": "stdout",
     "output_type": "stream",
     "text": [
      "Closest value to 6 in the vector is: 5\n"
     ]
    }
   ],
   "source": [
    "# Example vector\n",
    "vector = np.array([1, 3, 5, 7, 9])\n",
    "\n",
    "# Given scalar\n",
    "scalar = 6\n",
    "\n",
    "# Calculate absolute difference\n",
    "abs_diff = np.abs(vector - scalar)\n",
    "\n",
    "# Find index of minimum absolute difference\n",
    "closest_index = np.argmin(abs_diff)\n",
    "\n",
    "# Find the closest value\n",
    "closest_value = vector[closest_index]\n",
    "\n",
    "print(\"Closest value to\", scalar, \"in the vector is:\", closest_value)"
   ]
  },
  {
   "cell_type": "markdown",
   "metadata": {},
   "source": [
    "51. Create a structured array representing a position (x,y) and a color (r,g,b) (★★☆)"
   ]
  },
  {
   "cell_type": "code",
   "execution_count": 21,
   "metadata": {},
   "outputs": [
    {
     "name": "stdout",
     "output_type": "stream",
     "text": [
      "Structured array representing position and color:\n",
      "[((0.5, 0.7), (255, 0, 0))]\n"
     ]
    }
   ],
   "source": [
    "# Define the data types for position and color\n",
    "dtype_position = [('x', float), ('y', float)]\n",
    "dtype_color = [('r', int), ('g', int), ('b', int)]\n",
    "\n",
    "# Create the structured array\n",
    "structured_array = np.zeros(1, dtype=[('position', dtype_position), ('color', dtype_color)])\n",
    "\n",
    "# Assign values to the structured array\n",
    "structured_array['position'] = (0.5, 0.7)  # Example position values\n",
    "structured_array['color'] = (255, 0, 0)    # Example color values\n",
    "\n",
    "print(\"Structured array representing position and color:\")\n",
    "print(structured_array)"
   ]
  },
  {
   "cell_type": "markdown",
   "metadata": {},
   "source": [
    "52. Consider a random vector with shape (100,2) representing coordinates, find point by point distances (★★☆)"
   ]
  },
  {
   "cell_type": "code",
   "execution_count": 22,
   "metadata": {},
   "outputs": [
    {
     "name": "stdout",
     "output_type": "stream",
     "text": [
      "Point-by-point distances:\n",
      "[[0.         0.44324646 0.47311856 ... 0.97332995 0.16106212 0.26308493]\n",
      " [0.44324646 0.         0.03007184 ... 0.82172766 0.34655588 0.35890551]\n",
      " [0.47311856 0.03007184 0.         ... 0.81559797 0.37387121 0.3813712 ]\n",
      " ...\n",
      " [0.97332995 0.82172766 0.81559797 ... 0.         0.81710592 0.71075224]\n",
      " [0.16106212 0.34655588 0.37387121 ... 0.81710592 0.         0.10795439]\n",
      " [0.26308493 0.35890551 0.3813712  ... 0.71075224 0.10795439 0.        ]]\n"
     ]
    }
   ],
   "source": [
    "# Create a random vector of shape (100, 2) representing coordinates\n",
    "random_vector = np.random.rand(100, 2)\n",
    "\n",
    "# Calculate point-by-point distances using numpy.linalg.norm\n",
    "distances = np.linalg.norm(random_vector[:, None] - random_vector, axis=-1)\n",
    "\n",
    "print(\"Point-by-point distances:\")\n",
    "print(distances)"
   ]
  },
  {
   "cell_type": "markdown",
   "metadata": {},
   "source": [
    "53. How to convert a float (32 bits) array into an integer (32 bits) in place?"
   ]
  },
  {
   "cell_type": "code",
   "execution_count": 23,
   "metadata": {},
   "outputs": [
    {
     "name": "stdout",
     "output_type": "stream",
     "text": [
      "Integer (32 bits) array:\n",
      "[1 2 3]\n"
     ]
    }
   ],
   "source": [
    "# Create a float (32 bits) array\n",
    "float_array = np.array([1.5, 2.7, 3.9], dtype=np.float32)\n",
    "\n",
    "# Convert the float array to an integer (32 bits) array in place\n",
    "float_array = float_array.astype(np.int32)\n",
    "\n",
    "print(\"Integer (32 bits) array:\")\n",
    "print(float_array)"
   ]
  },
  {
   "cell_type": "markdown",
   "metadata": {},
   "source": [
    "54. How to read the following file? (★★☆)\n",
    "1, 2, 3, 4, 5\n",
    "6,  ,  , 7, 8\n",
    " ,  , 9,10,11"
   ]
  },
  {
   "cell_type": "markdown",
   "metadata": {},
   "source": [
    "55. What is the equivalent of enumerate for numpy arrays? (★★☆)"
   ]
  },
  {
   "cell_type": "code",
   "execution_count": 25,
   "metadata": {},
   "outputs": [
    {
     "name": "stdout",
     "output_type": "stream",
     "text": [
      "Index: (0, 0) Value: 1\n",
      "Index: (0, 1) Value: 2\n",
      "Index: (0, 2) Value: 3\n",
      "Index: (1, 0) Value: 4\n",
      "Index: (1, 1) Value: 5\n",
      "Index: (1, 2) Value: 6\n"
     ]
    }
   ],
   "source": [
    "# Create a NumPy array\n",
    "arr = np.array([[1, 2, 3],\n",
    "                [4, 5, 6]])\n",
    "\n",
    "# Iterate over the array elements and their indices\n",
    "for index, value in np.ndenumerate(arr):\n",
    "    print(\"Index:\", index, \"Value:\", value)"
   ]
  },
  {
   "cell_type": "markdown",
   "metadata": {},
   "source": [
    "56. Generate a generic 2D Gaussian-like array (★★☆)"
   ]
  },
  {
   "cell_type": "code",
   "execution_count": 15,
   "metadata": {},
   "outputs": [
    {
     "name": "stdout",
     "output_type": "stream",
     "text": [
      "Shape of the Gaussian-like array: (100, 100)\n"
     ]
    },
    {
     "ename": "ModuleNotFoundError",
     "evalue": "No module named 'matplotlib'",
     "output_type": "error",
     "traceback": [
      "\u001b[0;31m---------------------------------------------------------------------------\u001b[0m",
      "\u001b[0;31mModuleNotFoundError\u001b[0m                       Traceback (most recent call last)",
      "Cell \u001b[0;32mIn[15], line 31\u001b[0m\n\u001b[1;32m     28\u001b[0m \u001b[38;5;28mprint\u001b[39m(\u001b[38;5;124m\"\u001b[39m\u001b[38;5;124mShape of the Gaussian-like array:\u001b[39m\u001b[38;5;124m\"\u001b[39m, gaussian_array\u001b[38;5;241m.\u001b[39mshape)\n\u001b[1;32m     30\u001b[0m \u001b[38;5;66;03m# Optionally, visualize the array using matplotlib\u001b[39;00m\n\u001b[0;32m---> 31\u001b[0m \u001b[38;5;28;01mimport\u001b[39;00m \u001b[38;5;21;01mmatplotlib\u001b[39;00m\u001b[38;5;21;01m.\u001b[39;00m\u001b[38;5;21;01mpyplot\u001b[39;00m \u001b[38;5;28;01mas\u001b[39;00m \u001b[38;5;21;01mplt\u001b[39;00m\n\u001b[1;32m     33\u001b[0m plt\u001b[38;5;241m.\u001b[39mimshow(gaussian_array, cmap\u001b[38;5;241m=\u001b[39m\u001b[38;5;124m'\u001b[39m\u001b[38;5;124mgray\u001b[39m\u001b[38;5;124m'\u001b[39m)\n\u001b[1;32m     34\u001b[0m plt\u001b[38;5;241m.\u001b[39mcolorbar()\n",
      "\u001b[0;31mModuleNotFoundError\u001b[0m: No module named 'matplotlib'"
     ]
    }
   ],
   "source": [
    "import numpy as np\n",
    "\n",
    "def generate_gaussian_array(size, sigma=1.0):\n",
    "    \"\"\"\n",
    "    Generate a  2D Gaussian-like array.\n",
    "    \n",
    "    Parameters:\n",
    "    - size: A tuple specifying the dimensions of the array (height, width).\n",
    "    - sigma: The standard deviation of the Gaussian distribution.\n",
    "    \n",
    "    Returns:\n",
    "    - A  2D NumPy array representing a Gaussian-like distribution.\n",
    "    \"\"\"\n",
    "    # Create a grid of coordinates\n",
    "    x, y = np.meshgrid(np.arange(size[1]), np.arange(size[0]))\n",
    "    \n",
    "    # Calculate the Gaussian function\n",
    "    gaussian = np.exp(-((x - size[1] /   2) **   2 + (y - size[0] /   2) **   2) / (2 * sigma **   2))\n",
    "    \n",
    "    return gaussian\n",
    "\n",
    "# Example usage\n",
    "size = (100,   100)  #  100x100 array\n",
    "sigma =   20  # Standard deviation\n",
    "gaussian_array = generate_gaussian_array(size, sigma)\n",
    "\n",
    "# Print the shape of the generated array\n",
    "print(\"Shape of the Gaussian-like array:\", gaussian_array.shape)\n",
    "\n",
    "# Optionally, visualize the array using matplotlib\n",
    "import matplotlib.pyplot as plt\n",
    "\n",
    "plt.imshow(gaussian_array, cmap='gray')\n",
    "plt.colorbar()\n",
    "plt.title('2D Gaussian-like Array')\n",
    "plt.show()\n"
   ]
  },
  {
   "cell_type": "markdown",
   "metadata": {},
   "source": [
    "57. How to randomly place p elements in a 2D array? (★★☆)"
   ]
  },
  {
   "cell_type": "code",
   "execution_count": 27,
   "metadata": {},
   "outputs": [
    {
     "name": "stdout",
     "output_type": "stream",
     "text": [
      "[[0. 0. 0. 0. 0.]\n",
      " [0. 0. 0. 0. 1.]\n",
      " [0. 0. 0. 0. 0.]\n",
      " [0. 0. 1. 0. 0.]\n",
      " [0. 0. 1. 0. 0.]]\n"
     ]
    }
   ],
   "source": [
    "def randomly_place_elements(array_2d, p, element):\n",
    "    # Determine the shape of the array\n",
    "    rows, cols = array_2d.shape\n",
    "    \n",
    "    # Calculate the total number of elements in the array\n",
    "    total_elements = rows * cols\n",
    "    \n",
    "    # Calculate the number of elements to place\n",
    "    num_elements_to_place = min(p, total_elements)\n",
    "    \n",
    "    # Generate random indices to place the elements\n",
    "    random_indices = np.random.choice(total_elements, num_elements_to_place, replace=False)\n",
    "    \n",
    "    # Calculate row and column indices from the flattened index\n",
    "    row_indices, col_indices = np.unravel_index(random_indices, (rows, cols))\n",
    "    \n",
    "    # Place the elements at the randomly generated indices\n",
    "    array_2d[row_indices, col_indices] = element\n",
    "    \n",
    "    return array_2d\n",
    "\n",
    "# Example usage\n",
    "array_2d = np.zeros((5, 5))  # Example 5x5 array\n",
    "p = 3  # Number of elements to place\n",
    "element = 1  # Element to place\n",
    "result_array = randomly_place_elements(array_2d, p, element)\n",
    "print(result_array)"
   ]
  },
  {
   "cell_type": "markdown",
   "metadata": {},
   "source": [
    "58. Subtract the mean of each row of a matrix (★★☆)"
   ]
  },
  {
   "cell_type": "code",
   "execution_count": 28,
   "metadata": {},
   "outputs": [
    {
     "name": "stdout",
     "output_type": "stream",
     "text": [
      "Original Matrix:\n",
      "[[1 2 3]\n",
      " [4 5 6]\n",
      " [7 8 9]]\n",
      "\n",
      "Subtracting the mean of each row:\n",
      "[[-1.  0.  1.]\n",
      " [-1.  0.  1.]\n",
      " [-1.  0.  1.]]\n"
     ]
    }
   ],
   "source": [
    "# Create a sample matrix\n",
    "matrix = np.array([[1, 2, 3],\n",
    "                   [4, 5, 6],\n",
    "                   [7, 8, 9]])\n",
    "\n",
    "# Compute the mean of each row\n",
    "row_means = np.mean(matrix, axis=1, keepdims=True)\n",
    "\n",
    "# Subtract the row-wise means from each element of the matrix\n",
    "result_matrix = matrix - row_means\n",
    "\n",
    "print(\"Original Matrix:\")\n",
    "print(matrix)\n",
    "print(\"\\nSubtracting the mean of each row:\")\n",
    "print(result_matrix)"
   ]
  },
  {
   "cell_type": "markdown",
   "metadata": {},
   "source": [
    "59. How to sort an array by the nth column? (★★☆)"
   ]
  },
  {
   "cell_type": "code",
   "execution_count": 29,
   "metadata": {},
   "outputs": [
    {
     "name": "stdout",
     "output_type": "stream",
     "text": [
      "Original Array:\n",
      "[[3 6 9]\n",
      " [1 4 7]\n",
      " [2 5 8]]\n",
      "\n",
      "Sorted by the nth column:\n",
      "[[1 4 7]\n",
      " [2 5 8]\n",
      " [3 6 9]]\n"
     ]
    }
   ],
   "source": [
    "\n",
    "# Create a sample array\n",
    "array = np.array([[3, 6, 9],\n",
    "                  [1, 4, 7],\n",
    "                  [2, 5, 8]])\n",
    "\n",
    "# Define the column index to sort by (zero-based index)\n",
    "n = 1\n",
    "\n",
    "# Get the indices that would sort the array along the nth column\n",
    "sorted_indices = np.argsort(array[:, n])\n",
    "\n",
    "# Rearrange the rows of the array according to the sorted indices\n",
    "sorted_array = array[sorted_indices]\n",
    "\n",
    "print(\"Original Array:\")\n",
    "print(array)\n",
    "print(\"\\nSorted by the nth column:\")\n",
    "print(sorted_array)"
   ]
  },
  {
   "cell_type": "markdown",
   "metadata": {},
   "source": [
    "60. How to tell if a given 2D array has null columns? (★★☆)"
   ]
  },
  {
   "cell_type": "code",
   "execution_count": 30,
   "metadata": {},
   "outputs": [
    {
     "name": "stdout",
     "output_type": "stream",
     "text": [
      "The array does not have null columns.\n",
      "Null columns: [False False False]\n"
     ]
    }
   ],
   "source": [
    "# Create a sample 2D array with potential null columns\n",
    "array = np.array([[1, 2, np.nan],\n",
    "                  [4, np.nan, 6],\n",
    "                  [7, 8, 9]])\n",
    "\n",
    "# Check for NaN values in the array\n",
    "nan_mask = np.isnan(array)\n",
    "\n",
    "# Check if all elements in each column are NaN\n",
    "null_columns = np.all(nan_mask, axis=0)\n",
    "\n",
    "# Check if any column is a null column\n",
    "if np.any(null_columns):\n",
    "    print(\"The array has null columns.\")\n",
    "else:\n",
    "    print(\"The array does not have null columns.\")\n",
    "\n",
    "print(\"Null columns:\", null_columns)"
   ]
  },
  {
   "cell_type": "markdown",
   "metadata": {},
   "source": [
    "61. Find the nearest value from a given value in an array (★★☆)"
   ]
  },
  {
   "cell_type": "code",
   "execution_count": 31,
   "metadata": {},
   "outputs": [
    {
     "name": "stdout",
     "output_type": "stream",
     "text": [
      "Nearest value to 6 in the array: 5\n"
     ]
    }
   ],
   "source": [
    "def find_nearest(array, value):\n",
    "    # Calculate the absolute difference between each element and the given value\n",
    "    absolute_diff = np.abs(array - value)\n",
    "    # Find the index of the minimum absolute difference\n",
    "    idx = np.argmin(absolute_diff)\n",
    "    # Retrieve the nearest value from the array\n",
    "    nearest_value = array[idx]\n",
    "    return nearest_value\n",
    "\n",
    "# Example usage\n",
    "array = np.array([1, 3, 5, 7, 9])\n",
    "given_value = 6\n",
    "nearest = find_nearest(array, given_value)\n",
    "print(\"Nearest value to\", given_value, \"in the array:\", nearest)"
   ]
  },
  {
   "cell_type": "markdown",
   "metadata": {},
   "source": [
    "62. Considering two arrays with shape (1,3) and (3,1), how to compute their sum using an iterator? (★★☆)"
   ]
  },
  {
   "cell_type": "code",
   "execution_count": 32,
   "metadata": {},
   "outputs": [
    {
     "name": "stdout",
     "output_type": "stream",
     "text": [
      "Sum of the two arrays: 63\n"
     ]
    }
   ],
   "source": [
    "# Create the two arrays\n",
    "array1 = np.array([[1, 2, 3]])  # Shape (1,3)\n",
    "array2 = np.array([[4], [5], [6]])  # Shape (3,1)\n",
    "\n",
    "# Initialize the sum to zero\n",
    "total_sum = 0\n",
    "\n",
    "# Iterate over the arrays using nditer\n",
    "it = np.nditer([array1, array2])\n",
    "for x, y in it:\n",
    "    total_sum += x + y\n",
    "\n",
    "# Print the total sum\n",
    "print(\"Sum of the two arrays:\", total_sum)"
   ]
  },
  {
   "cell_type": "markdown",
   "metadata": {},
   "source": [
    "63. Create an array class that has a name attribute (★★☆)"
   ]
  },
  {
   "cell_type": "code",
   "execution_count": 33,
   "metadata": {},
   "outputs": [
    {
     "name": "stdout",
     "output_type": "stream",
     "text": [
      "[1 2 3]\n",
      "example_array\n"
     ]
    }
   ],
   "source": [
    "class NamedArray(np.ndarray):\n",
    "    def __new__(cls, array, name=None):\n",
    "        obj = np.asarray(array).view(cls)\n",
    "        obj.name = name\n",
    "        return obj\n",
    "\n",
    "# Example usage:\n",
    "arr = NamedArray([1, 2, 3], name=\"example_array\")\n",
    "print(arr)  # Output: [1 2 3]\n",
    "print(arr.name)  # Output: example_array"
   ]
  },
  {
   "cell_type": "markdown",
   "metadata": {},
   "source": [
    "64. Consider a given vector, how to add 1 to each element indexed by a second vector (be careful with repeated indices)? (★★★)"
   ]
  },
  {
   "cell_type": "code",
   "execution_count": 34,
   "metadata": {},
   "outputs": [
    {
     "name": "stdout",
     "output_type": "stream",
     "text": [
      "[0 3 2 4 5]\n"
     ]
    }
   ],
   "source": [
    "# Given vector\n",
    "vector = np.array([0, 1, 2, 3, 4])\n",
    "\n",
    "# Second vector containing indices\n",
    "indices = np.array([1, 3, 1, 4])\n",
    "\n",
    "# Add 1 to each element indexed by the second vector\n",
    "np.add.at(vector, indices, 1)\n",
    "\n",
    "print(vector)"
   ]
  },
  {
   "cell_type": "markdown",
   "metadata": {},
   "source": [
    "65. How to accumulate elements of a vector (X) to an array (F) based on an index list (I)? (★★★)\n"
   ]
  },
  {
   "cell_type": "code",
   "execution_count": null,
   "metadata": {},
   "outputs": [],
   "source": []
  },
  {
   "cell_type": "markdown",
   "metadata": {},
   "source": [
    "66. Considering a (w,h,3) image of (dtype=ubyte), compute the number of unique colors (★★☆)"
   ]
  },
  {
   "cell_type": "code",
   "execution_count": 39,
   "metadata": {},
   "outputs": [
    {
     "name": "stdout",
     "output_type": "stream",
     "text": [
      "Number of unique colors: 100\n"
     ]
    }
   ],
   "source": [
    "import numpy as np\n",
    "\n",
    "# Assuming 'image' is your (w,h,3) image of dtype=ubyte\n",
    "# Replace this with your actual image data\n",
    "image = np.random.randint(0, 256, size=(10, 10, 3), dtype=np.uint8)\n",
    "\n",
    "# Reshape the image to (w*h, 3) to treat each pixel as a separate color\n",
    "pixels = np.reshape(image, (-1, 3))\n",
    "\n",
    "# Convert the pixels array to a unique list of colors\n",
    "unique_colors = np.unique(pixels, axis=0)\n",
    "\n",
    "# Compute the number of unique colors\n",
    "num_unique_colors = len(unique_colors)\n",
    "\n",
    "print(\"Number of unique colors:\", num_unique_colors)\n"
   ]
  },
  {
   "cell_type": "markdown",
   "metadata": {},
   "source": [
    "67. Considering a four dimensions array, how to get sum over the last two axis at once? (★★★)"
   ]
  },
  {
   "cell_type": "code",
   "execution_count": 40,
   "metadata": {},
   "outputs": [
    {
     "name": "stdout",
     "output_type": "stream",
     "text": [
      "Sum over the last two axes:\n",
      "[[ 98 104  94]\n",
      " [ 88  87 118]]\n"
     ]
    }
   ],
   "source": [
    "# Assuming 'arr' is your four-dimensional array\n",
    "# Replace this with your actual array data\n",
    "arr = np.random.randint(0, 10, size=(2, 3, 4, 5))\n",
    "\n",
    "# Get the sum over the last two axes (axis=-2 and axis=-1)\n",
    "sum_last_two_axes = np.sum(arr, axis=(-2, -1))\n",
    "\n",
    "print(\"Sum over the last two axes:\")\n",
    "print(sum_last_two_axes)"
   ]
  },
  {
   "cell_type": "markdown",
   "metadata": {},
   "source": [
    "68. Considering a one-dimensional vector D, how to compute means of subsets of D using a vector S of same size describing subset indices? (★★★)"
   ]
  },
  {
   "cell_type": "code",
   "execution_count": 41,
   "metadata": {},
   "outputs": [
    {
     "name": "stdout",
     "output_type": "stream",
     "text": [
      "Subset Means: [1.5 3.5 5.5 7.5 9.5]\n"
     ]
    }
   ],
   "source": [
    "# Example vectors D and S\n",
    "D = np.array([1, 2, 3, 4, 5, 6, 7, 8, 9, 10])\n",
    "S = np.array([0, 0, 1, 1, 2, 2, 3, 3, 4, 4])  # Subset indices\n",
    "\n",
    "# Find unique elements in S\n",
    "unique_elements = np.unique(S)\n",
    "\n",
    "# Initialize an empty list to store subset means\n",
    "subset_means = []\n",
    "\n",
    "# Iterate over unique elements\n",
    "for elem in unique_elements:\n",
    "    # Find indices where S equals the unique element\n",
    "    subset_indices = np.where(S == elem)\n",
    "    \n",
    "    # Extract subset from D using subset_indices\n",
    "    subset = D[subset_indices]\n",
    "    \n",
    "    # Compute mean of the subset and append to subset_means\n",
    "    subset_mean = np.mean(subset)\n",
    "    subset_means.append(subset_mean)\n",
    "\n",
    "# Convert subset_means to numpy array\n",
    "subset_means = np.array(subset_means)\n",
    "\n",
    "print(\"Subset Means:\", subset_means)"
   ]
  },
  {
   "cell_type": "markdown",
   "metadata": {},
   "source": [
    "69. How to get the diagonal of a dot product? (★★★)"
   ]
  },
  {
   "cell_type": "code",
   "execution_count": 42,
   "metadata": {},
   "outputs": [
    {
     "name": "stdout",
     "output_type": "stream",
     "text": [
      "Diagonal of the dot product: [30 69 90]\n"
     ]
    }
   ],
   "source": [
    "\n",
    "# Example matrices\n",
    "A = np.array([[1, 2, 3],\n",
    "              [4, 5, 6],\n",
    "              [7, 8, 9]])\n",
    "\n",
    "B = np.array([[9, 8, 7],\n",
    "              [6, 5, 4],\n",
    "              [3, 2, 1]])\n",
    "\n",
    "# Compute the dot product\n",
    "dot_product = np.dot(A, B)\n",
    "\n",
    "# Get the diagonal of the dot product\n",
    "diagonal = np.diagonal(dot_product)\n",
    "\n",
    "print(\"Diagonal of the dot product:\", diagonal)"
   ]
  },
  {
   "cell_type": "markdown",
   "metadata": {},
   "source": [
    "70. Consider the vector [1, 2, 3, 4, 5], how to build a new vector with 3 consecutive zeros interleaved between each value? (★★★)"
   ]
  },
  {
   "cell_type": "code",
   "execution_count": 7,
   "metadata": {},
   "outputs": [
    {
     "name": "stdout",
     "output_type": "stream",
     "text": [
      "[1, 0, 0, 0, 2, 0, 0, 0, 3, 0, 0, 0, 4, 0, 0, 0, 5]\n"
     ]
    }
   ],
   "source": [
    "# Original vector\n",
    "original_vector = [1,  2,  3,  4,  5]\n",
    "\n",
    "# Build a new vector with  3 consecutive zeros interleaved between each value\n",
    "new_vector = [item for value in original_vector for item in (value,  0,  0,  0)]\n",
    "\n",
    "# Remove the trailing zeros\n",
    "new_vector = new_vector[:-3]\n",
    "\n",
    "print(new_vector)\n"
   ]
  },
  {
   "cell_type": "markdown",
   "metadata": {},
   "source": [
    "71. Consider an array of dimension (5,5,3), how to mulitply it by an array with dimensions (5,5)? (★★★)"
   ]
  },
  {
   "cell_type": "code",
   "execution_count": 45,
   "metadata": {},
   "outputs": [
    {
     "name": "stdout",
     "output_type": "stream",
     "text": [
      "Resulting array shape: (5, 5, 3)\n"
     ]
    }
   ],
   "source": [
    "# Create arrays with the specified dimensions\n",
    "array_3d = np.random.rand(5, 5, 3)  # Example 3D array\n",
    "array_2d = np.random.rand(5, 5)     # Example 2D array\n",
    "\n",
    "# Multiply the 3D array by the 2D array\n",
    "result = array_3d * array_2d[:, :, None]\n",
    "\n",
    "print(\"Resulting array shape:\", result.shape)"
   ]
  },
  {
   "cell_type": "markdown",
   "metadata": {},
   "source": [
    "72. How to swap two rows of an array? (★★★)"
   ]
  },
  {
   "cell_type": "code",
   "execution_count": 46,
   "metadata": {},
   "outputs": [
    {
     "name": "stdout",
     "output_type": "stream",
     "text": [
      "Swapped array:\n",
      "[[4 5 6]\n",
      " [1 2 3]\n",
      " [7 8 9]]\n"
     ]
    }
   ],
   "source": [
    "# Create a sample array\n",
    "array = np.array([[1, 2, 3],\n",
    "                  [4, 5, 6],\n",
    "                  [7, 8, 9]])\n",
    "\n",
    "# Swap rows 0 and 1\n",
    "array[[0, 1]] = array[[1, 0]]\n",
    "\n",
    "print(\"Swapped array:\")\n",
    "print(array)"
   ]
  },
  {
   "cell_type": "markdown",
   "metadata": {},
   "source": [
    "73. Consider a set of 10 triplets describing 10 triangles (with shared vertices), find the set of unique line segments composing all the triangles (★★★)"
   ]
  },
  {
   "cell_type": "code",
   "execution_count": 47,
   "metadata": {},
   "outputs": [
    {
     "name": "stdout",
     "output_type": "stream",
     "text": [
      "Unique line segments composing all the triangles:\n",
      "[[ 0 79]\n",
      " [ 0 93]\n",
      " [ 4 41]\n",
      " [ 7 99]\n",
      " [ 9 21]\n",
      " [10 22]\n",
      " [12 42]\n",
      " [12 64]\n",
      " [14 78]\n",
      " [15 89]\n",
      " [15 93]\n",
      " [16 16]\n",
      " [17 91]\n",
      " [19 28]\n",
      " [23 43]\n",
      " [23 99]\n",
      " [28 90]\n",
      " [34 36]\n",
      " [35 91]\n",
      " [36 80]\n",
      " [41 44]\n",
      " [43 44]\n",
      " [48 92]\n",
      " [52 75]\n",
      " [63 86]\n",
      " [69 72]\n",
      " [73 89]\n",
      " [73 90]\n",
      " [78 95]\n",
      " [85 94]]\n"
     ]
    }
   ],
   "source": [
    "# Given set of 10 triplets describing 10 triangles\n",
    "triplets = np.random.randint(0, 100, (10, 3, 2))\n",
    "\n",
    "# Convert triplets to line segments\n",
    "line_segments = triplets[:, :, :2].reshape(-1, 2)\n",
    "\n",
    "# Sort the line segments to ensure consistency for comparison\n",
    "sorted_segments = np.sort(line_segments, axis=1)\n",
    "\n",
    "# Find the unique line segments\n",
    "unique_segments, indices = np.unique(sorted_segments, axis=0, return_index=True)\n",
    "\n",
    "# Output the unique line segments\n",
    "print(\"Unique line segments composing all the triangles:\")\n",
    "print(unique_segments)"
   ]
  },
  {
   "cell_type": "markdown",
   "metadata": {},
   "source": [
    "74. Given a sorted array C that corresponds to a bincount, how to produce an array A such that np.bincount(A) == C? (★★★)"
   ]
  },
  {
   "cell_type": "code",
   "execution_count": 48,
   "metadata": {},
   "outputs": [
    {
     "name": "stdout",
     "output_type": "stream",
     "text": [
      "Array A such that np.bincount(A) == C:\n",
      "[0 1 1 3 3 3 4 6]\n"
     ]
    }
   ],
   "source": [
    "# Given sorted array C corresponding to bincount\n",
    "C = np.array([1, 2, 0, 3, 1, 0, 1])\n",
    "\n",
    "# Calculate the length of array A\n",
    "A_length = np.sum(C)\n",
    "\n",
    "# Initialize array A with calculated length\n",
    "A = np.empty(A_length, dtype=np.int64)\n",
    "\n",
    "# Create an array of indices corresponding to counts in C\n",
    "indices = np.arange(len(C))\n",
    "\n",
    "# Repeat each index according to the count in C\n",
    "repeated_indices = np.repeat(indices, C)\n",
    "\n",
    "# Concatenate repeated indices to obtain array A\n",
    "np.copyto(A, repeated_indices)\n",
    "\n",
    "# Output array A\n",
    "print(\"Array A such that np.bincount(A) == C:\")\n",
    "print(A)"
   ]
  },
  {
   "cell_type": "markdown",
   "metadata": {},
   "source": [
    "75. How to compute averages using a sliding window over an array? (★★★)"
   ]
  },
  {
   "cell_type": "code",
   "execution_count": 49,
   "metadata": {},
   "outputs": [
    {
     "name": "stdout",
     "output_type": "stream",
     "text": [
      "Averages using a sliding window of size 3 :\n",
      "[2. 3. 4. 5. 6. 7. 8. 9.]\n"
     ]
    }
   ],
   "source": [
    "# Define the array and window size\n",
    "arr = np.array([1, 2, 3, 4, 5, 6, 7, 8, 9, 10])\n",
    "window_size = 3\n",
    "\n",
    "# Create a window of ones\n",
    "window = np.ones(window_size)\n",
    "\n",
    "# Compute the sliding window sum using numpy.convolve\n",
    "window_sum = np.convolve(arr, window, mode='valid')\n",
    "\n",
    "# Compute the averages\n",
    "averages = window_sum / window_size\n",
    "\n",
    "# Output the averages\n",
    "print(\"Averages using a sliding window of size\", window_size, \":\")\n",
    "print(averages)"
   ]
  },
  {
   "cell_type": "markdown",
   "metadata": {},
   "source": [
    "76. Consider a one-dimensional array Z, build a two-dimensional array whose first row is (Z[0],Z[1],Z[2]) and each subsequent row is shifted by 1 (last row should be (Z[-3],Z[-2],Z[-1]) (★★★)"
   ]
  },
  {
   "cell_type": "code",
   "execution_count": 50,
   "metadata": {},
   "outputs": [
    {
     "name": "stdout",
     "output_type": "stream",
     "text": [
      "Two-dimensional array:\n",
      "[[1 2 3]\n",
      " [2 3 4]\n",
      " [3 4 5]\n",
      " [4 5 6]\n",
      " [5 6 7]]\n"
     ]
    }
   ],
   "source": [
    "# Example one-dimensional array\n",
    "Z = np.array([1, 2, 3, 4, 5, 6, 7])\n",
    "\n",
    "# Initialize empty list for rows\n",
    "rows = []\n",
    "\n",
    "# Iterate over the range of length(Z) - 2\n",
    "for i in range(len(Z) - 2):\n",
    "    # Slice Z to obtain a row of three elements and append to rows\n",
    "    rows.append(Z[i:i+3])\n",
    "\n",
    "# Convert list of rows to NumPy array\n",
    "result = np.array(rows)\n",
    "\n",
    "print(\"Two-dimensional array:\")\n",
    "print(result)"
   ]
  },
  {
   "cell_type": "markdown",
   "metadata": {},
   "source": [
    "77. How to negate a boolean, or to change the sign of a float inplace? (★★★)"
   ]
  },
  {
   "cell_type": "code",
   "execution_count": 51,
   "metadata": {},
   "outputs": [
    {
     "name": "stdout",
     "output_type": "stream",
     "text": [
      "Negated boolean array: [False  True False]\n",
      "Float array with changed sign: [-1.5  2.7 -3.9]\n"
     ]
    }
   ],
   "source": [
    "# Negate a boolean array inplace\n",
    "bool_array = np.array([True, False, True])\n",
    "bool_array[:] = np.logical_not(bool_array)\n",
    "\n",
    "# Change the sign of a float array inplace\n",
    "float_array = np.array([1.5, -2.7, 3.9])\n",
    "float_array[:] *= -1\n",
    "\n",
    "print(\"Negated boolean array:\", bool_array)\n",
    "print(\"Float array with changed sign:\", float_array)"
   ]
  },
  {
   "cell_type": "markdown",
   "metadata": {},
   "source": [
    "78. Consider 2 sets of points P0,P1 describing lines (2d) and a point p, how to compute distance from p to each line i (P0[i],P1[i])? (★★★)"
   ]
  },
  {
   "cell_type": "code",
   "execution_count": 52,
   "metadata": {},
   "outputs": [
    {
     "name": "stdout",
     "output_type": "stream",
     "text": [
      "Distances to each line: [nan nan nan]\n"
     ]
    },
    {
     "name": "stderr",
     "output_type": "stream",
     "text": [
      "/tmp/ipykernel_800/3036045301.py:18: RuntimeWarning: invalid value encountered in sqrt\n",
      "  distance = np.abs(np.sqrt(np.linalg.norm(v, axis=1)**2 - cos_angle**2 * magnitude_l**2))\n"
     ]
    }
   ],
   "source": [
    "\n",
    "def distance_to_line(P0, P1, p):\n",
    "    # Vector from each point in P0 to p\n",
    "    v = p - P0\n",
    "    \n",
    "    # Vector along each line segment from P0 to P1\n",
    "    l = P1 - P0\n",
    "    \n",
    "    # Compute dot product\n",
    "    dot_product = np.sum(v * l, axis=1)\n",
    "    \n",
    "    # Compute magnitude of l\n",
    "    magnitude_l = np.linalg.norm(l, axis=1)\n",
    "    \n",
    "    # Compute cosine of angle\n",
    "    cos_angle = dot_product / magnitude_l\n",
    "    \n",
    "    # Compute distance\n",
    "    distance = np.abs(np.sqrt(np.linalg.norm(v, axis=1)**2 - cos_angle**2 * magnitude_l**2))\n",
    "    \n",
    "    return distance\n",
    "\n",
    "# Example usage\n",
    "P0 = np.array([[1, 1], [2, 3], [4, 5]])\n",
    "P1 = np.array([[4, 5], [6, 7], [8, 9]])\n",
    "p = np.array([3, 3])\n",
    "\n",
    "distances = distance_to_line(P0, P1, p)\n",
    "print(\"Distances to each line:\", distances)"
   ]
  },
  {
   "cell_type": "markdown",
   "metadata": {},
   "source": [
    "79. Consider 2 sets of points P0,P1 describing lines (2d) and a set of points P, how to compute distance from each point j (P[j]) to each line i (P0[i],P1[i])? (★★★)"
   ]
  },
  {
   "cell_type": "code",
   "execution_count": 9,
   "metadata": {},
   "outputs": [
    {
     "name": "stdout",
     "output_type": "stream",
     "text": [
      "[[0.0, 0.0], [0.0, 0.0], [0.0, 0.0]]\n"
     ]
    }
   ],
   "source": [
    "import numpy as np\n",
    "\n",
    "def distance_point_to_line(P, P0, P1):\n",
    "    \"\"\"\n",
    "    Compute the distance from each point P[j] to each line defined by points P0[i] and P1[i].\n",
    "    \n",
    "    Parameters:\n",
    "    - P: A list of points P[j] where each point is a tuple (x, y).\n",
    "    - P0: A list of points P0[i] where each point is a tuple (x, y).\n",
    "    - P1: A list of points P1[i] where each point is a tuple (x, y).\n",
    "    \n",
    "    Returns:\n",
    "    - A list of distances where each distance is a list of distances from each point P[j] to each line i.\n",
    "    \"\"\"\n",
    "    # Convert lists to NumPy arrays for efficient computation\n",
    "    P = np.array(P)\n",
    "    P0 = np.array(P0)\n",
    "    P1 = np.array(P1)\n",
    "    \n",
    "    # Initialize an empty list to store the distances\n",
    "    distances = []\n",
    "    \n",
    "    # Iterate over each point P[j]\n",
    "    for point in P:\n",
    "        # Initialize an empty list to store the distances to each line\n",
    "        point_distances = []\n",
    "        \n",
    "        # Iterate over each line defined by points P0[i] and P1[i]\n",
    "        for i in range(len(P0)):\n",
    "            # Compute the distance from the point to the line\n",
    "            numerator = np.abs((P1[i,  1] - P0[i,  1]) * point[0] - (P1[i,  0] - P0[i,  0]) * point[1] + P1[i,  0] * P0[i,  1] - P1[i,  1] * P0[i,  0])\n",
    "            denominator = np.sqrt((P1[i,  1] - P0[i,  1]) **  2 + (P1[i,  0] - P0[i,  0]) **  2)\n",
    "            distance = numerator / denominator\n",
    "            \n",
    "            # Append the distance to the list of distances for the current point\n",
    "            point_distances.append(distance)\n",
    "        \n",
    "        # Append the list of distances for the current point to the list of all distances\n",
    "        distances.append(point_distances)\n",
    "    \n",
    "    return distances\n",
    "\n",
    "# Example usage\n",
    "P = [(1,  1), (2,  2), (3,  3)]\n",
    "P0 = [(0,  0), (0,  0)]\n",
    "P1 = [(1,  1), (2,  2)]\n",
    "\n",
    "distances = distance_point_to_line(P, P0, P1)\n",
    "print(distances)\n"
   ]
  },
  {
   "cell_type": "markdown",
   "metadata": {},
   "source": [
    "80. Consider an arbitrary array, write a function that extract a subpart with a fixed shape and centered on a given element (pad with a fill value when necessary) (★★★)"
   ]
  },
  {
   "cell_type": "code",
   "execution_count": 54,
   "metadata": {},
   "outputs": [
    {
     "name": "stdout",
     "output_type": "stream",
     "text": [
      "Original Array:\n",
      "[[6 3 9 1 9 7]\n",
      " [6 3 6 6 8 7]\n",
      " [7 0 3 5 3 8]\n",
      " [7 6 9 5 1 5]\n",
      " [6 8 5 3 0 6]\n",
      " [4 9 7 3 1 7]]\n",
      "\n",
      "Subpart with shape (3, 3) centered at (2, 2):\n",
      "[[3 6 6]\n",
      " [0 3 5]\n",
      " [6 9 5]]\n"
     ]
    }
   ],
   "source": [
    "import numpy as np\n",
    "\n",
    "def extract_subpart(arr, shape, center, fill_value=0):\n",
    "    # Calculate starting index for the subpart\n",
    "    start_idx = np.maximum(center - np.array(shape) // 2, 0)\n",
    "    \n",
    "    # Calculate ending index for the subpart\n",
    "    end_idx = start_idx + shape\n",
    "    \n",
    "    # Calculate the padding required for each dimension\n",
    "    pad_before = np.abs(np.minimum(center - np.array(shape) // 2, 0))\n",
    "    pad_after = np.maximum(end_idx - np.array(arr.shape), 0)\n",
    "    \n",
    "    # Pad the array with the fill value\n",
    "    padded_arr = np.pad(arr, tuple(zip(pad_before, pad_after)), constant_values=fill_value)\n",
    "    \n",
    "    # Extract the subpart\n",
    "    subpart = padded_arr[start_idx[0]:end_idx[0], start_idx[1]:end_idx[1]]\n",
    "    \n",
    "    return subpart\n",
    "\n",
    "# Example usage\n",
    "arr = np.random.randint(0, 10, size=(6, 6))\n",
    "print(\"Original Array:\")\n",
    "print(arr)\n",
    "\n",
    "shape = (3, 3)\n",
    "center = (2, 2)\n",
    "subpart = extract_subpart(arr, shape, center, fill_value=-1)\n",
    "print(\"\\nSubpart with shape (3, 3) centered at (2, 2):\")\n",
    "print(subpart)"
   ]
  },
  {
   "cell_type": "markdown",
   "metadata": {},
   "source": [
    "81. Consider an array Z = [1,2,3,4,5,6,7,8,9,10,11,12,13,14], how to generate an array R = [[1,2,3,4], [2,3,4,5], [3,4,5,6], ..., [11,12,13,14]]? (★★★)"
   ]
  },
  {
   "cell_type": "code",
   "execution_count": 55,
   "metadata": {},
   "outputs": [
    {
     "name": "stdout",
     "output_type": "stream",
     "text": [
      "[[1, 2, 3, 4], [2, 3, 4, 5], [3, 4, 5, 6], [4, 5, 6, 7], [5, 6, 7, 8], [6, 7, 8, 9], [7, 8, 9, 10], [8, 9, 10, 11], [9, 10, 11, 12], [10, 11, 12, 13], [11, 12, 13, 14]]\n"
     ]
    }
   ],
   "source": [
    "# Define array Z\n",
    "Z = np.array([1, 2, 3, 4, 5, 6, 7, 8, 9, 10, 11, 12, 13, 14])\n",
    "\n",
    "# Define the shape of R\n",
    "shape_R = (4,)\n",
    "\n",
    "# Create sliding window view of Z\n",
    "view_Z = np.lib.stride_tricks.sliding_window_view(Z, shape_R)\n",
    "\n",
    "# Convert the view to a list to obtain R\n",
    "R = view_Z.tolist()\n",
    "\n",
    "print(R)"
   ]
  },
  {
   "cell_type": "markdown",
   "metadata": {},
   "source": [
    "82. Compute a matrix rank (★★★)"
   ]
  },
  {
   "cell_type": "code",
   "execution_count": 56,
   "metadata": {},
   "outputs": [
    {
     "name": "stdout",
     "output_type": "stream",
     "text": [
      "Rank of the matrix: 2\n"
     ]
    }
   ],
   "source": [
    "# Define your matrix\n",
    "matrix = np.array([[1, 2, 3],\n",
    "                   [4, 5, 6],\n",
    "                   [7, 8, 9]])\n",
    "\n",
    "# Compute the rank of the matrix\n",
    "rank = np.linalg.matrix_rank(matrix)\n",
    "\n",
    "print(\"Rank of the matrix:\", rank)"
   ]
  },
  {
   "cell_type": "markdown",
   "metadata": {},
   "source": [
    "83. How to find the most frequent value in an array?"
   ]
  },
  {
   "cell_type": "code",
   "execution_count": 57,
   "metadata": {},
   "outputs": [
    {
     "name": "stdout",
     "output_type": "stream",
     "text": [
      "The most frequent value: 2\n"
     ]
    }
   ],
   "source": [
    "# Example array\n",
    "arr = np.array([1, 2, 3, 2, 2, 3, 4, 5, 6, 6, 6])\n",
    "\n",
    "# Get unique elements and their counts\n",
    "unique_values, counts = np.unique(arr, return_counts=True)\n",
    "\n",
    "# Find the index of the maximum count\n",
    "max_count_index = np.argmax(counts)\n",
    "\n",
    "# Retrieve the most frequent value\n",
    "most_frequent_value = unique_values[max_count_index]\n",
    "\n",
    "print(\"The most frequent value:\", most_frequent_value)"
   ]
  },
  {
   "cell_type": "markdown",
   "metadata": {},
   "source": [
    "84. Extract all the contiguous 3x3 blocks from a random 10x10 matrix (★★★)\n"
   ]
  },
  {
   "cell_type": "code",
   "execution_count": 58,
   "metadata": {},
   "outputs": [
    {
     "name": "stdout",
     "output_type": "stream",
     "text": [
      "[[[[5 9 4]\n",
      "   [1 7 2]\n",
      "   [5 5 0]]\n",
      "\n",
      "  [[9 4 2]\n",
      "   [7 2 6]\n",
      "   [5 0 7]]\n",
      "\n",
      "  [[4 2 7]\n",
      "   [2 6 7]\n",
      "   [0 7 1]]\n",
      "\n",
      "  [[2 7 9]\n",
      "   [6 7 7]\n",
      "   [7 1 0]]\n",
      "\n",
      "  [[7 9 6]\n",
      "   [7 7 9]\n",
      "   [1 0 7]]\n",
      "\n",
      "  [[9 6 4]\n",
      "   [7 9 4]\n",
      "   [0 7 1]]\n",
      "\n",
      "  [[6 4 8]\n",
      "   [9 4 1]\n",
      "   [7 1 1]]\n",
      "\n",
      "  [[4 8 8]\n",
      "   [4 1 8]\n",
      "   [1 1 9]]]\n",
      "\n",
      "\n",
      " [[[1 7 2]\n",
      "   [5 5 0]\n",
      "   [8 1 1]]\n",
      "\n",
      "  [[7 2 6]\n",
      "   [5 0 7]\n",
      "   [1 1 4]]\n",
      "\n",
      "  [[2 6 7]\n",
      "   [0 7 1]\n",
      "   [1 4 8]]\n",
      "\n",
      "  [[6 7 7]\n",
      "   [7 1 0]\n",
      "   [4 8 8]]\n",
      "\n",
      "  [[7 7 9]\n",
      "   [1 0 7]\n",
      "   [8 8 4]]\n",
      "\n",
      "  [[7 9 4]\n",
      "   [0 7 1]\n",
      "   [8 4 8]]\n",
      "\n",
      "  [[9 4 1]\n",
      "   [7 1 1]\n",
      "   [4 8 4]]\n",
      "\n",
      "  [[4 1 8]\n",
      "   [1 1 9]\n",
      "   [8 4 1]]]\n",
      "\n",
      "\n",
      " [[[5 5 0]\n",
      "   [8 1 1]\n",
      "   [2 6 9]]\n",
      "\n",
      "  [[5 0 7]\n",
      "   [1 1 4]\n",
      "   [6 9 5]]\n",
      "\n",
      "  [[0 7 1]\n",
      "   [1 4 8]\n",
      "   [9 5 2]]\n",
      "\n",
      "  [[7 1 0]\n",
      "   [4 8 8]\n",
      "   [5 2 3]]\n",
      "\n",
      "  [[1 0 7]\n",
      "   [8 8 4]\n",
      "   [2 3 5]]\n",
      "\n",
      "  [[0 7 1]\n",
      "   [8 4 8]\n",
      "   [3 5 9]]\n",
      "\n",
      "  [[7 1 1]\n",
      "   [4 8 4]\n",
      "   [5 9 5]]\n",
      "\n",
      "  [[1 1 9]\n",
      "   [8 4 1]\n",
      "   [9 5 2]]]\n",
      "\n",
      "\n",
      " [[[8 1 1]\n",
      "   [2 6 9]\n",
      "   [8 2 4]]\n",
      "\n",
      "  [[1 1 4]\n",
      "   [6 9 5]\n",
      "   [2 4 2]]\n",
      "\n",
      "  [[1 4 8]\n",
      "   [9 5 2]\n",
      "   [4 2 2]]\n",
      "\n",
      "  [[4 8 8]\n",
      "   [5 2 3]\n",
      "   [2 2 0]]\n",
      "\n",
      "  [[8 8 4]\n",
      "   [2 3 5]\n",
      "   [2 0 7]]\n",
      "\n",
      "  [[8 4 8]\n",
      "   [3 5 9]\n",
      "   [0 7 3]]\n",
      "\n",
      "  [[4 8 4]\n",
      "   [5 9 5]\n",
      "   [7 3 9]]\n",
      "\n",
      "  [[8 4 1]\n",
      "   [9 5 2]\n",
      "   [3 9 1]]]\n",
      "\n",
      "\n",
      " [[[2 6 9]\n",
      "   [8 2 4]\n",
      "   [3 6 2]]\n",
      "\n",
      "  [[6 9 5]\n",
      "   [2 4 2]\n",
      "   [6 2 3]]\n",
      "\n",
      "  [[9 5 2]\n",
      "   [4 2 2]\n",
      "   [2 3 4]]\n",
      "\n",
      "  [[5 2 3]\n",
      "   [2 2 0]\n",
      "   [3 4 8]]\n",
      "\n",
      "  [[2 3 5]\n",
      "   [2 0 7]\n",
      "   [4 8 2]]\n",
      "\n",
      "  [[3 5 9]\n",
      "   [0 7 3]\n",
      "   [8 2 0]]\n",
      "\n",
      "  [[5 9 5]\n",
      "   [7 3 9]\n",
      "   [2 0 0]]\n",
      "\n",
      "  [[9 5 2]\n",
      "   [3 9 1]\n",
      "   [0 0 3]]]\n",
      "\n",
      "\n",
      " [[[8 2 4]\n",
      "   [3 6 2]\n",
      "   [2 8 2]]\n",
      "\n",
      "  [[2 4 2]\n",
      "   [6 2 3]\n",
      "   [8 2 1]]\n",
      "\n",
      "  [[4 2 2]\n",
      "   [2 3 4]\n",
      "   [2 1 1]]\n",
      "\n",
      "  [[2 2 0]\n",
      "   [3 4 8]\n",
      "   [1 1 6]]\n",
      "\n",
      "  [[2 0 7]\n",
      "   [4 8 2]\n",
      "   [1 6 2]]\n",
      "\n",
      "  [[0 7 3]\n",
      "   [8 2 0]\n",
      "   [6 2 3]]\n",
      "\n",
      "  [[7 3 9]\n",
      "   [2 0 0]\n",
      "   [2 3 8]]\n",
      "\n",
      "  [[3 9 1]\n",
      "   [0 0 3]\n",
      "   [3 8 4]]]\n",
      "\n",
      "\n",
      " [[[3 6 2]\n",
      "   [2 8 2]\n",
      "   [5 4 6]]\n",
      "\n",
      "  [[6 2 3]\n",
      "   [8 2 1]\n",
      "   [4 6 4]]\n",
      "\n",
      "  [[2 3 4]\n",
      "   [2 1 1]\n",
      "   [6 4 9]]\n",
      "\n",
      "  [[3 4 8]\n",
      "   [1 1 6]\n",
      "   [4 9 7]]\n",
      "\n",
      "  [[4 8 2]\n",
      "   [1 6 2]\n",
      "   [9 7 0]]\n",
      "\n",
      "  [[8 2 0]\n",
      "   [6 2 3]\n",
      "   [7 0 3]]\n",
      "\n",
      "  [[2 0 0]\n",
      "   [2 3 8]\n",
      "   [0 3 7]]\n",
      "\n",
      "  [[0 0 3]\n",
      "   [3 8 4]\n",
      "   [3 7 6]]]\n",
      "\n",
      "\n",
      " [[[2 8 2]\n",
      "   [5 4 6]\n",
      "   [0 9 1]]\n",
      "\n",
      "  [[8 2 1]\n",
      "   [4 6 4]\n",
      "   [9 1 4]]\n",
      "\n",
      "  [[2 1 1]\n",
      "   [6 4 9]\n",
      "   [1 4 2]]\n",
      "\n",
      "  [[1 1 6]\n",
      "   [4 9 7]\n",
      "   [4 2 3]]\n",
      "\n",
      "  [[1 6 2]\n",
      "   [9 7 0]\n",
      "   [2 3 3]]\n",
      "\n",
      "  [[6 2 3]\n",
      "   [7 0 3]\n",
      "   [3 3 3]]\n",
      "\n",
      "  [[2 3 8]\n",
      "   [0 3 7]\n",
      "   [3 3 9]]\n",
      "\n",
      "  [[3 8 4]\n",
      "   [3 7 6]\n",
      "   [3 9 5]]]]\n"
     ]
    }
   ],
   "source": [
    "import numpy as np\n",
    "\n",
    "# Create a random 10x10 matrix\n",
    "matrix = np.random.randint(0, 10, (10, 10))\n",
    "\n",
    "# Define the block size\n",
    "block_size = 3\n",
    "\n",
    "# Calculate the shape of the output array\n",
    "output_shape = (matrix.shape[0] - block_size + 1, matrix.shape[1] - block_size + 1, block_size, block_size)\n",
    "\n",
    "# Calculate the strides for the output array\n",
    "strides = matrix.strides * 2\n",
    "\n",
    "# Extract contiguous 3x3 blocks using stride_tricks.as_strided\n",
    "blocks = np.lib.stride_tricks.as_strided(matrix, shape=output_shape, strides=strides)\n",
    "\n",
    "print(blocks)"
   ]
  },
  {
   "cell_type": "markdown",
   "metadata": {},
   "source": [
    "85. Create a 2D array subclass such that Z[i,j] == Z[j,i] (★★★)"
   ]
  },
  {
   "cell_type": "code",
   "execution_count": 59,
   "metadata": {},
   "outputs": [
    {
     "name": "stdout",
     "output_type": "stream",
     "text": [
      "6\n",
      "6\n"
     ]
    }
   ],
   "source": [
    "\n",
    "class SymmetricArray(np.ndarray):\n",
    "    def __new__(cls, input_array):\n",
    "        obj = np.asarray(input_array).view(cls)\n",
    "        return obj\n",
    "\n",
    "    def __getitem__(self, index):\n",
    "        i, j = index\n",
    "        if isinstance(i, slice) or isinstance(j, slice):\n",
    "            return super().__getitem__((i, j))\n",
    "        else:\n",
    "            return super().__getitem__((min(i, j), max(i, j)))\n",
    "\n",
    "# Example usage:\n",
    "arr = np.array([[1, 2, 3],\n",
    "                [4, 5, 6],\n",
    "                [7, 8, 9]])\n",
    "\n",
    "sym_arr = SymmetricArray(arr)\n",
    "print(sym_arr[1, 2])  # Output: 6\n",
    "print(sym_arr[2, 1])  # Output: 6"
   ]
  },
  {
   "cell_type": "markdown",
   "metadata": {},
   "source": [
    "86. Consider a set of p matrices with shape (n,n) and a set of p vectors with shape (n,1). How to compute the sum of of the p matrix products at once? (result has shape (n,1)) (★★★)"
   ]
  },
  {
   "cell_type": "code",
   "execution_count": 10,
   "metadata": {},
   "outputs": [
    {
     "name": "stdout",
     "output_type": "stream",
     "text": [
      "[[44]\n",
      " [64]]\n"
     ]
    }
   ],
   "source": [
    "import numpy as np\n",
    "\n",
    "def sum_of_matrix_vector_products(matrices, vectors):\n",
    "    \"\"\"\n",
    "    Compute the sum of the products of a set of matrices and vectors.\n",
    "    \n",
    "    Parameters:\n",
    "    - matrices: A list of `p` matrices with shape `(n, n)`.\n",
    "    - vectors: A list of `p` vectors with shape `(n,  1)`.\n",
    "    \n",
    "    Returns:\n",
    "    - A vector with shape `(n,  1)` that is the sum of the products of the matrices and vectors.\n",
    "    \"\"\"\n",
    "    # Convert lists to NumPy arrays for efficient computation\n",
    "    matrices = np.array(matrices)\n",
    "    vectors = np.array(vectors)\n",
    "    \n",
    "    # Compute the sum of the products of the matrices and vectors\n",
    "    result = np.sum(matrices @ vectors, axis=0)\n",
    "    \n",
    "    return result\n",
    "\n",
    "# Example usage\n",
    "matrices = [np.array([[1,  2], [3,  4]]), np.array([[5,  6], [7,  8]])]\n",
    "vectors = [np.array([[1], [2]]), np.array([[3], [4]])]\n",
    "\n",
    "result = sum_of_matrix_vector_products(matrices, vectors)\n",
    "print(result)\n"
   ]
  },
  {
   "cell_type": "markdown",
   "metadata": {},
   "source": [
    "87. Consider a 16x16 array, how to get the block-sum (block size is 4x4)? (★★★)"
   ]
  },
  {
   "cell_type": "code",
   "execution_count": 62,
   "metadata": {},
   "outputs": [
    {
     "name": "stdout",
     "output_type": "stream",
     "text": [
      "[[78 76 89 93]\n",
      " [96 71 79 80]\n",
      " [87 86 84 85]\n",
      " [76 78 60 86]]\n"
     ]
    }
   ],
   "source": [
    "\n",
    "# Create a 16x16 array (example)\n",
    "array_16x16 = np.random.randint(1, 10, size=(16, 16))\n",
    "\n",
    "# Reshape the array into 4x4x4x4 blocks\n",
    "blocks = array_16x16.reshape(4, 4, 4, 4)\n",
    "\n",
    "# Sum the elements along the last two axes to get block sums\n",
    "block_sums = np.sum(np.sum(blocks, axis=-1), axis=-1)\n",
    "\n",
    "print(block_sums)"
   ]
  },
  {
   "cell_type": "markdown",
   "metadata": {},
   "source": [
    "88. How to implement the Game of Life using numpy arrays? (★★★)"
   ]
  },
  {
   "cell_type": "code",
   "execution_count": 63,
   "metadata": {},
   "outputs": [],
   "source": [
    "def game_of_life(grid, iterations):\n",
    "    for _ in range(iterations):\n",
    "        neighbor_count = sum(np.roll(np.roll(grid, i, 0), j, 1)\n",
    "                             for i in (-1, 0, 1) for j in (-1, 0, 1)\n",
    "                             if (i != 0 or j != 0))\n",
    "        grid = np.logical_or(np.logical_and(neighbor_count == 3, grid == 0),\n",
    "                             np.logical_and(np.isin(neighbor_count, [2, 3]), grid == 1))\n",
    "    return grid\n",
    "\n",
    "# Example usage\n",
    "initial_grid = np.random.choice([0, 1], size=(10, 10), p=[0.5, 0.5])  # Initialize random grid\n",
    "final_grid = game_of_life(initial_grid, iterations=10)  # Run the Game of Life for 10 iterations"
   ]
  },
  {
   "cell_type": "markdown",
   "metadata": {},
   "source": [
    "89. How to get the n largest values of an array (★★★)"
   ]
  },
  {
   "cell_type": "code",
   "execution_count": 64,
   "metadata": {},
   "outputs": [],
   "source": [
    "\n",
    "arr = np.array([3, 1, 4, 1, 5, 9, 2, 6, 5])\n",
    "n = 3\n",
    "indices = np.argsort(arr)[-n:]\n",
    "largest_values = arr[indices]"
   ]
  },
  {
   "cell_type": "markdown",
   "metadata": {},
   "source": [
    "90. Given an arbitrary number of vectors, build the cartesian product (every combinations of every item) (★★★)"
   ]
  },
  {
   "cell_type": "code",
   "execution_count": 65,
   "metadata": {},
   "outputs": [],
   "source": [
    "# Define input vectors\n",
    "vector1 = np.array([1, 2, 3])\n",
    "vector2 = np.array([4, 5])\n",
    "vector3 = np.array([6, 7, 8])\n",
    "\n",
    "# Compute cartesian product\n",
    "grid = np.meshgrid(vector1, vector2, vector3, indexing='ij')\n",
    "\n",
    "# Flatten the arrays\n",
    "cartesian_product = np.array([x.flatten() for x in grid]).T"
   ]
  },
  {
   "cell_type": "markdown",
   "metadata": {},
   "source": [
    "91. How to create a record array from a regular array? (★★★)"
   ]
  },
  {
   "cell_type": "code",
   "execution_count": 66,
   "metadata": {},
   "outputs": [
    {
     "name": "stdout",
     "output_type": "stream",
     "text": [
      "['John' 'Alice' 'Bob']\n",
      "[25 30 35]\n"
     ]
    }
   ],
   "source": [
    "# Define your regular array\n",
    "regular_array = np.array([['John', 25], ['Alice', 30], ['Bob', 35]])\n",
    "\n",
    "# Define the dtype for the record array\n",
    "dtype = [('name', 'U10'), ('age', int)]\n",
    "\n",
    "# Create the record array\n",
    "record_array = np.rec.fromarrays(regular_array.T, dtype=dtype)\n",
    "\n",
    "# Access elements of the record array\n",
    "print(record_array['name'])\n",
    "print(record_array['age'])"
   ]
  },
  {
   "cell_type": "markdown",
   "metadata": {},
   "source": [
    "92. Consider a large vector Z, compute Z to the power of 3 using 3 different methods (★★★)"
   ]
  },
  {
   "cell_type": "code",
   "execution_count": 67,
   "metadata": {},
   "outputs": [
    {
     "name": "stdout",
     "output_type": "stream",
     "text": [
      "True\n",
      "True\n"
     ]
    }
   ],
   "source": [
    "\n",
    "# Define your large vector Z\n",
    "Z = np.random.rand(1000000)  # Example vector of size 1,000,000\n",
    "\n",
    "# Method 1: Using numpy.power function\n",
    "Z_cubed_1 = np.power(Z, 3)\n",
    "\n",
    "# Method 2: Using the ** operator\n",
    "Z_cubed_2 = Z ** 3\n",
    "\n",
    "# Method 3: Using numpy.multiply function twice\n",
    "Z_cubed_3 = np.multiply(np.multiply(Z, Z), Z)\n",
    "\n",
    "# Verify results\n",
    "print(np.allclose(Z_cubed_1, Z_cubed_2))\n",
    "print(np.allclose(Z_cubed_2, Z_cubed_3))"
   ]
  },
  {
   "cell_type": "markdown",
   "metadata": {},
   "source": [
    "93. Consider two arrays A and B of shape (8,3) and (2,2). How to find rows of A that contain elements of each row of B regardless of the order of the elements in B? (★★★)"
   ]
  },
  {
   "cell_type": "code",
   "execution_count": 11,
   "metadata": {},
   "outputs": [
    {
     "name": "stdout",
     "output_type": "stream",
     "text": [
      "Indices of matching rows in A: []\n"
     ]
    }
   ],
   "source": [
    "import numpy as np\n",
    "\n",
    "def find_matching_rows(A, B):\n",
    "    \"\"\"\n",
    "    Find rows of array A that contain elements of each row of array B regardless of the order of the elements in B.\n",
    "    \n",
    "    Parameters:\n",
    "    - A: A NumPy array of shape (8,  3).\n",
    "    - B: A NumPy array of shape (2,  2).\n",
    "    \n",
    "    Returns:\n",
    "    - A list of indices of rows in A that contain all elements of each row in B.\n",
    "    \"\"\"\n",
    "    # Convert A and B to lists of sets for efficient comparison\n",
    "    A_sets = [set(row) for row in A]\n",
    "    B_sets = [set(row) for row in B]\n",
    "    \n",
    "    # Find rows of A that contain all elements of each row of B\n",
    "    matching_rows = [i for i, a_set in enumerate(A_sets) if all(b_set.issubset(a_set) for b_set in B_sets)]\n",
    "    \n",
    "    return matching_rows\n",
    "\n",
    "# Example usage\n",
    "A = np.array([[1,  2,  3], [4,  5,  6], [7,  8,  9], [10,  11,  12], [13,  14,  15], [16,  17,  18], [19,  20,  21], [22,  23,  24]])\n",
    "B = np.array([[1,  2], [3,  4]])\n",
    "\n",
    "matching_rows = find_matching_rows(A, B)\n",
    "print(\"Indices of matching rows in A:\", matching_rows)\n"
   ]
  },
  {
   "cell_type": "markdown",
   "metadata": {},
   "source": [
    "94. Considering a 10x3 matrix, extract rows with unequal values (e.g. [2,2,3]) (★★★)"
   ]
  },
  {
   "cell_type": "code",
   "execution_count": 69,
   "metadata": {},
   "outputs": [
    {
     "name": "stdout",
     "output_type": "stream",
     "text": [
      "Rows with unequal values:\n",
      "[[2 0 0]\n",
      " [2 3 1]\n",
      " [3 2 3]\n",
      " [3 0 2]\n",
      " [1 0 0]\n",
      " [3 1 1]\n",
      " [3 0 1]\n",
      " [0 0 3]\n",
      " [1 1 0]\n",
      " [1 0 0]]\n"
     ]
    }
   ],
   "source": [
    "# Create a 10x3 matrix (example)\n",
    "matrix = np.random.randint(0, 4, (10, 3))\n",
    "\n",
    "# Find rows with unequal values\n",
    "unequal_rows = matrix[np.apply_along_axis(lambda row: len(np.unique(row)) > 1, axis=1, arr=matrix)]\n",
    "\n",
    "print(\"Rows with unequal values:\")\n",
    "print(unequal_rows)"
   ]
  },
  {
   "cell_type": "markdown",
   "metadata": {},
   "source": [
    "95. Convert a vector of ints into a matrix binary representation (★★★)"
   ]
  },
  {
   "cell_type": "code",
   "execution_count": 70,
   "metadata": {},
   "outputs": [
    {
     "name": "stdout",
     "output_type": "stream",
     "text": [
      "Matrix of binary representation:\n",
      "[['0' '0' '0' '0' '0' '1' '0' '1']\n",
      " ['0' '0' '0' '0' '1' '0' '1' '0']\n",
      " ['0' '0' '0' '0' '0' '0' '1' '1']\n",
      " ['0' '0' '0' '0' '0' '1' '1' '1']\n",
      " ['0' '0' '0' '0' '1' '1' '1' '1']]\n"
     ]
    }
   ],
   "source": [
    "# Example vector of integers\n",
    "vector = np.array([5, 10, 3, 7, 15])\n",
    "\n",
    "# Convert each integer to binary representation\n",
    "binary_matrix = np.array([list(np.binary_repr(num, width=8)) for num in vector])\n",
    "\n",
    "print(\"Matrix of binary representation:\")\n",
    "print(binary_matrix)"
   ]
  },
  {
   "cell_type": "markdown",
   "metadata": {},
   "source": [
    "96. Given a two dimensional array, how to extract unique rows? (★★★)"
   ]
  },
  {
   "cell_type": "code",
   "execution_count": 71,
   "metadata": {},
   "outputs": [
    {
     "name": "stdout",
     "output_type": "stream",
     "text": [
      "Unique rows:\n",
      "[[1 2 3]\n",
      " [4 5 6]\n",
      " [7 8 9]]\n"
     ]
    }
   ],
   "source": [
    "# Example 2D array\n",
    "array_2d = np.array([[1, 2, 3],\n",
    "                     [4, 5, 6],\n",
    "                     [1, 2, 3],\n",
    "                     [7, 8, 9]])\n",
    "\n",
    "# Extract unique rows\n",
    "unique_rows = np.unique(array_2d, axis=0)\n",
    "\n",
    "print(\"Unique rows:\")\n",
    "print(unique_rows)"
   ]
  },
  {
   "cell_type": "markdown",
   "metadata": {},
   "source": [
    "97. Considering 2 vectors A & B, write the einsum equivalent of inner, outer, sum, and mul function (★★★)"
   ]
  },
  {
   "cell_type": "code",
   "execution_count": 12,
   "metadata": {},
   "outputs": [
    {
     "name": "stdout",
     "output_type": "stream",
     "text": [
      "Inner Product: 32\n"
     ]
    }
   ],
   "source": [
    "A = np.array([1,  2,  3])\n",
    "B = np.array([4,  5,  6])\n",
    "\n",
    "inner_product = np.einsum('i,i->', A, B)\n",
    "print(\"Inner Product:\", inner_product)"
   ]
  },
  {
   "cell_type": "markdown",
   "metadata": {},
   "source": [
    "98. Considering a path described by two vectors (X,Y), how to sample it using equidistant samples (★★★)?"
   ]
  },
  {
   "cell_type": "code",
   "execution_count": 13,
   "metadata": {},
   "outputs": [
    {
     "name": "stdout",
     "output_type": "stream",
     "text": [
      "Sampled X: [1.         1.44444444 1.88888889 2.33333333 2.77777778 3.22222222\n",
      " 3.66666667 4.11111111 4.55555556 5.        ]\n",
      "Sampled Y: [2.         2.44444444 2.88888889 3.33333333 3.77777778 4.22222222\n",
      " 4.66666667 5.11111111 5.55555556 6.        ]\n"
     ]
    }
   ],
   "source": [
    "import numpy as np\n",
    "\n",
    "def sample_path(X, Y, num_samples):\n",
    "    \"\"\"\n",
    "    Sample a path described by two vectors X and Y using equidistant samples.\n",
    "    \n",
    "    Parameters:\n",
    "    - X: A NumPy array representing the x-coordinates of the path.\n",
    "    - Y: A NumPy array representing the y-coordinates of the path.\n",
    "    - num_samples: The number of equidistant samples to generate.\n",
    "    \n",
    "    Returns:\n",
    "    - A tuple of two NumPy arrays representing the x and y coordinates of the sampled path.\n",
    "    \"\"\"\n",
    "    # Generate a sequence of evenly spaced values between the minimum and maximum values of X and Y\n",
    "    x_samples = np.linspace(X.min(), X.max(), num_samples)\n",
    "    y_samples = np.linspace(Y.min(), Y.max(), num_samples)\n",
    "    \n",
    "    # Interpolate the path using the sampled x and y values\n",
    "    interpolated_X = np.interp(x_samples, X, X)\n",
    "    interpolated_Y = np.interp(y_samples, Y, Y)\n",
    "    \n",
    "    return interpolated_X, interpolated_Y\n",
    "\n",
    "# Example usage\n",
    "X = np.array([1,  2,  3,  4,  5])\n",
    "Y = np.array([2,  3,  4,  5,  6])\n",
    "num_samples =  10\n",
    "\n",
    "sampled_X, sampled_Y = sample_path(X, Y, num_samples)\n",
    "print(\"Sampled X:\", sampled_X)\n",
    "print(\"Sampled Y:\", sampled_Y)\n"
   ]
  },
  {
   "cell_type": "markdown",
   "metadata": {},
   "source": [
    "99. Given an integer n and a 2D array X, select from X the rows which can be interpreted as draws from a multinomial distribution with n degrees, i.e., the rows which only contain integers and which sum to n. (★★★)"
   ]
  },
  {
   "cell_type": "code",
   "execution_count": 74,
   "metadata": {},
   "outputs": [
    {
     "name": "stdout",
     "output_type": "stream",
     "text": [
      "Selected rows: [[1 2 3]]\n"
     ]
    }
   ],
   "source": [
    "\n",
    "def select_multinomial_rows(X, n):\n",
    "    # Filter rows where all elements are integers and the sum equals n\n",
    "    valid_rows = np.all(np.equal(np.mod(X, 1), 0), axis=1) & (np.sum(X, axis=1) == n)\n",
    "    selected_rows = X[valid_rows]\n",
    "    return selected_rows\n",
    "\n",
    "# Example usage\n",
    "X = np.array([[1, 2, 3], [2, 3, 4], [3, 4, 5]])\n",
    "n = 6\n",
    "selected_rows = select_multinomial_rows(X, n)\n",
    "print(\"Selected rows:\", selected_rows)"
   ]
  },
  {
   "cell_type": "markdown",
   "metadata": {},
   "source": [
    "100. Compute bootstrapped 95% confidence intervals for the mean of a 1D array X (i.e., resample the elements of an array with replacement N times, compute the mean of each sample, and then compute percentiles over the means). (★★★)"
   ]
  },
  {
   "cell_type": "code",
   "execution_count": 75,
   "metadata": {},
   "outputs": [
    {
     "name": "stdout",
     "output_type": "stream",
     "text": [
      "95% Confidence Interval for the mean: (3.8, 7.3)\n"
     ]
    }
   ],
   "source": [
    "\n",
    "def bootstrap_confidence_interval(X, N):\n",
    "    # Generate bootstrap samples\n",
    "    bootstrap_means = [np.mean(np.random.choice(X, size=len(X), replace=True)) for _ in range(N)]\n",
    "    \n",
    "    # Compute percentiles for confidence interval\n",
    "    lower_percentile = (100 - 95) / 2\n",
    "    upper_percentile = 100 - lower_percentile\n",
    "    lower_bound = np.percentile(bootstrap_means, lower_percentile)\n",
    "    upper_bound = np.percentile(bootstrap_means, upper_percentile)\n",
    "    \n",
    "    return lower_bound, upper_bound\n",
    "\n",
    "# Example usage\n",
    "X = np.array([1, 2, 3, 4, 5, 6, 7, 8, 9, 10])\n",
    "N = 1000  # Number of bootstrap samples\n",
    "lower_bound, upper_bound = bootstrap_confidence_interval(X, N)\n",
    "print(\"95% Confidence Interval for the mean:\", (lower_bound, upper_bound))"
   ]
  }
 ],
 "metadata": {
  "kernelspec": {
   "display_name": "Python 3",
   "language": "python",
   "name": "python3"
  },
  "language_info": {
   "codemirror_mode": {
    "name": "ipython",
    "version": 3
   },
   "file_extension": ".py",
   "mimetype": "text/x-python",
   "name": "python",
   "nbconvert_exporter": "python",
   "pygments_lexer": "ipython3",
   "version": "3.9.18"
  }
 },
 "nbformat": 4,
 "nbformat_minor": 2
}
